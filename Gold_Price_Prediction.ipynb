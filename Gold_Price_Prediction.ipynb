{
  "nbformat": 4,
  "nbformat_minor": 0,
  "metadata": {
    "colab": {
      "provenance": [],
      "gpuType": "T4"
    },
    "kernelspec": {
      "name": "python3",
      "display_name": "Python 3"
    },
    "language_info": {
      "name": "python"
    },
    "accelerator": "GPU"
  },
  "cells": [
    {
      "cell_type": "markdown",
      "metadata": {
        "id": "i1h7LAlVa7Gu"
      },
      "source": [
        "Importing the Libraries"
      ]
    },
    {
      "cell_type": "code",
      "metadata": {
        "id": "d2o7jdWHXE6K"
      },
      "source": [
        "import numpy as np\n",
        "import pandas as pd\n",
        "import matplotlib.pyplot as plt\n",
        "import seaborn as sns\n",
        "from sklearn.model_selection import train_test_split\n",
        "from sklearn.ensemble import RandomForestRegressor\n",
        "from sklearn import metrics"
      ],
      "execution_count": 1,
      "outputs": []
    },
    {
      "cell_type": "markdown",
      "metadata": {
        "id": "Y1jC584Mbd4Q"
      },
      "source": [
        "Data Collection and Processing"
      ]
    },
    {
      "cell_type": "code",
      "metadata": {
        "id": "BQtjCTzHbZQO"
      },
      "source": [
        "# loading the csv data to a Pandas DataFrame\n",
        "gold_data = pd.read_csv('/content/gld_price_data.csv')"
      ],
      "execution_count": 2,
      "outputs": []
    },
    {
      "cell_type": "code",
      "metadata": {
        "colab": {
          "base_uri": "https://localhost:8080/",
          "height": 206
        },
        "id": "S5xeeB9LbyA9",
        "outputId": "3ce577d2-4cd5-4117-a119-4541fd84b45e"
      },
      "source": [
        "# print first 5 rows in the dataframe\n",
        "gold_data.head()"
      ],
      "execution_count": 3,
      "outputs": [
        {
          "output_type": "execute_result",
          "data": {
            "text/plain": [
              "       Date          SPX        GLD        USO     SLV   EUR/USD\n",
              "0  1/2/2008  1447.160034  84.860001  78.470001  15.180  1.471692\n",
              "1  1/3/2008  1447.160034  85.570000  78.370003  15.285  1.474491\n",
              "2  1/4/2008  1411.630005  85.129997  77.309998  15.167  1.475492\n",
              "3  1/7/2008  1416.180054  84.769997  75.500000  15.053  1.468299\n",
              "4  1/8/2008  1390.189941  86.779999  76.059998  15.590  1.557099"
            ],
            "text/html": [
              "\n",
              "  <div id=\"df-170fbce5-706a-41f5-874a-b46dea73465b\" class=\"colab-df-container\">\n",
              "    <div>\n",
              "<style scoped>\n",
              "    .dataframe tbody tr th:only-of-type {\n",
              "        vertical-align: middle;\n",
              "    }\n",
              "\n",
              "    .dataframe tbody tr th {\n",
              "        vertical-align: top;\n",
              "    }\n",
              "\n",
              "    .dataframe thead th {\n",
              "        text-align: right;\n",
              "    }\n",
              "</style>\n",
              "<table border=\"1\" class=\"dataframe\">\n",
              "  <thead>\n",
              "    <tr style=\"text-align: right;\">\n",
              "      <th></th>\n",
              "      <th>Date</th>\n",
              "      <th>SPX</th>\n",
              "      <th>GLD</th>\n",
              "      <th>USO</th>\n",
              "      <th>SLV</th>\n",
              "      <th>EUR/USD</th>\n",
              "    </tr>\n",
              "  </thead>\n",
              "  <tbody>\n",
              "    <tr>\n",
              "      <th>0</th>\n",
              "      <td>1/2/2008</td>\n",
              "      <td>1447.160034</td>\n",
              "      <td>84.860001</td>\n",
              "      <td>78.470001</td>\n",
              "      <td>15.180</td>\n",
              "      <td>1.471692</td>\n",
              "    </tr>\n",
              "    <tr>\n",
              "      <th>1</th>\n",
              "      <td>1/3/2008</td>\n",
              "      <td>1447.160034</td>\n",
              "      <td>85.570000</td>\n",
              "      <td>78.370003</td>\n",
              "      <td>15.285</td>\n",
              "      <td>1.474491</td>\n",
              "    </tr>\n",
              "    <tr>\n",
              "      <th>2</th>\n",
              "      <td>1/4/2008</td>\n",
              "      <td>1411.630005</td>\n",
              "      <td>85.129997</td>\n",
              "      <td>77.309998</td>\n",
              "      <td>15.167</td>\n",
              "      <td>1.475492</td>\n",
              "    </tr>\n",
              "    <tr>\n",
              "      <th>3</th>\n",
              "      <td>1/7/2008</td>\n",
              "      <td>1416.180054</td>\n",
              "      <td>84.769997</td>\n",
              "      <td>75.500000</td>\n",
              "      <td>15.053</td>\n",
              "      <td>1.468299</td>\n",
              "    </tr>\n",
              "    <tr>\n",
              "      <th>4</th>\n",
              "      <td>1/8/2008</td>\n",
              "      <td>1390.189941</td>\n",
              "      <td>86.779999</td>\n",
              "      <td>76.059998</td>\n",
              "      <td>15.590</td>\n",
              "      <td>1.557099</td>\n",
              "    </tr>\n",
              "  </tbody>\n",
              "</table>\n",
              "</div>\n",
              "    <div class=\"colab-df-buttons\">\n",
              "\n",
              "  <div class=\"colab-df-container\">\n",
              "    <button class=\"colab-df-convert\" onclick=\"convertToInteractive('df-170fbce5-706a-41f5-874a-b46dea73465b')\"\n",
              "            title=\"Convert this dataframe to an interactive table.\"\n",
              "            style=\"display:none;\">\n",
              "\n",
              "  <svg xmlns=\"http://www.w3.org/2000/svg\" height=\"24px\" viewBox=\"0 -960 960 960\">\n",
              "    <path d=\"M120-120v-720h720v720H120Zm60-500h600v-160H180v160Zm220 220h160v-160H400v160Zm0 220h160v-160H400v160ZM180-400h160v-160H180v160Zm440 0h160v-160H620v160ZM180-180h160v-160H180v160Zm440 0h160v-160H620v160Z\"/>\n",
              "  </svg>\n",
              "    </button>\n",
              "\n",
              "  <style>\n",
              "    .colab-df-container {\n",
              "      display:flex;\n",
              "      gap: 12px;\n",
              "    }\n",
              "\n",
              "    .colab-df-convert {\n",
              "      background-color: #E8F0FE;\n",
              "      border: none;\n",
              "      border-radius: 50%;\n",
              "      cursor: pointer;\n",
              "      display: none;\n",
              "      fill: #1967D2;\n",
              "      height: 32px;\n",
              "      padding: 0 0 0 0;\n",
              "      width: 32px;\n",
              "    }\n",
              "\n",
              "    .colab-df-convert:hover {\n",
              "      background-color: #E2EBFA;\n",
              "      box-shadow: 0px 1px 2px rgba(60, 64, 67, 0.3), 0px 1px 3px 1px rgba(60, 64, 67, 0.15);\n",
              "      fill: #174EA6;\n",
              "    }\n",
              "\n",
              "    .colab-df-buttons div {\n",
              "      margin-bottom: 4px;\n",
              "    }\n",
              "\n",
              "    [theme=dark] .colab-df-convert {\n",
              "      background-color: #3B4455;\n",
              "      fill: #D2E3FC;\n",
              "    }\n",
              "\n",
              "    [theme=dark] .colab-df-convert:hover {\n",
              "      background-color: #434B5C;\n",
              "      box-shadow: 0px 1px 3px 1px rgba(0, 0, 0, 0.15);\n",
              "      filter: drop-shadow(0px 1px 2px rgba(0, 0, 0, 0.3));\n",
              "      fill: #FFFFFF;\n",
              "    }\n",
              "  </style>\n",
              "\n",
              "    <script>\n",
              "      const buttonEl =\n",
              "        document.querySelector('#df-170fbce5-706a-41f5-874a-b46dea73465b button.colab-df-convert');\n",
              "      buttonEl.style.display =\n",
              "        google.colab.kernel.accessAllowed ? 'block' : 'none';\n",
              "\n",
              "      async function convertToInteractive(key) {\n",
              "        const element = document.querySelector('#df-170fbce5-706a-41f5-874a-b46dea73465b');\n",
              "        const dataTable =\n",
              "          await google.colab.kernel.invokeFunction('convertToInteractive',\n",
              "                                                    [key], {});\n",
              "        if (!dataTable) return;\n",
              "\n",
              "        const docLinkHtml = 'Like what you see? Visit the ' +\n",
              "          '<a target=\"_blank\" href=https://colab.research.google.com/notebooks/data_table.ipynb>data table notebook</a>'\n",
              "          + ' to learn more about interactive tables.';\n",
              "        element.innerHTML = '';\n",
              "        dataTable['output_type'] = 'display_data';\n",
              "        await google.colab.output.renderOutput(dataTable, element);\n",
              "        const docLink = document.createElement('div');\n",
              "        docLink.innerHTML = docLinkHtml;\n",
              "        element.appendChild(docLink);\n",
              "      }\n",
              "    </script>\n",
              "  </div>\n",
              "\n",
              "\n",
              "<div id=\"df-377af1e0-9c4b-48a0-b396-23e4a62df805\">\n",
              "  <button class=\"colab-df-quickchart\" onclick=\"quickchart('df-377af1e0-9c4b-48a0-b396-23e4a62df805')\"\n",
              "            title=\"Suggest charts\"\n",
              "            style=\"display:none;\">\n",
              "\n",
              "<svg xmlns=\"http://www.w3.org/2000/svg\" height=\"24px\"viewBox=\"0 0 24 24\"\n",
              "     width=\"24px\">\n",
              "    <g>\n",
              "        <path d=\"M19 3H5c-1.1 0-2 .9-2 2v14c0 1.1.9 2 2 2h14c1.1 0 2-.9 2-2V5c0-1.1-.9-2-2-2zM9 17H7v-7h2v7zm4 0h-2V7h2v10zm4 0h-2v-4h2v4z\"/>\n",
              "    </g>\n",
              "</svg>\n",
              "  </button>\n",
              "\n",
              "<style>\n",
              "  .colab-df-quickchart {\n",
              "      --bg-color: #E8F0FE;\n",
              "      --fill-color: #1967D2;\n",
              "      --hover-bg-color: #E2EBFA;\n",
              "      --hover-fill-color: #174EA6;\n",
              "      --disabled-fill-color: #AAA;\n",
              "      --disabled-bg-color: #DDD;\n",
              "  }\n",
              "\n",
              "  [theme=dark] .colab-df-quickchart {\n",
              "      --bg-color: #3B4455;\n",
              "      --fill-color: #D2E3FC;\n",
              "      --hover-bg-color: #434B5C;\n",
              "      --hover-fill-color: #FFFFFF;\n",
              "      --disabled-bg-color: #3B4455;\n",
              "      --disabled-fill-color: #666;\n",
              "  }\n",
              "\n",
              "  .colab-df-quickchart {\n",
              "    background-color: var(--bg-color);\n",
              "    border: none;\n",
              "    border-radius: 50%;\n",
              "    cursor: pointer;\n",
              "    display: none;\n",
              "    fill: var(--fill-color);\n",
              "    height: 32px;\n",
              "    padding: 0;\n",
              "    width: 32px;\n",
              "  }\n",
              "\n",
              "  .colab-df-quickchart:hover {\n",
              "    background-color: var(--hover-bg-color);\n",
              "    box-shadow: 0 1px 2px rgba(60, 64, 67, 0.3), 0 1px 3px 1px rgba(60, 64, 67, 0.15);\n",
              "    fill: var(--button-hover-fill-color);\n",
              "  }\n",
              "\n",
              "  .colab-df-quickchart-complete:disabled,\n",
              "  .colab-df-quickchart-complete:disabled:hover {\n",
              "    background-color: var(--disabled-bg-color);\n",
              "    fill: var(--disabled-fill-color);\n",
              "    box-shadow: none;\n",
              "  }\n",
              "\n",
              "  .colab-df-spinner {\n",
              "    border: 2px solid var(--fill-color);\n",
              "    border-color: transparent;\n",
              "    border-bottom-color: var(--fill-color);\n",
              "    animation:\n",
              "      spin 1s steps(1) infinite;\n",
              "  }\n",
              "\n",
              "  @keyframes spin {\n",
              "    0% {\n",
              "      border-color: transparent;\n",
              "      border-bottom-color: var(--fill-color);\n",
              "      border-left-color: var(--fill-color);\n",
              "    }\n",
              "    20% {\n",
              "      border-color: transparent;\n",
              "      border-left-color: var(--fill-color);\n",
              "      border-top-color: var(--fill-color);\n",
              "    }\n",
              "    30% {\n",
              "      border-color: transparent;\n",
              "      border-left-color: var(--fill-color);\n",
              "      border-top-color: var(--fill-color);\n",
              "      border-right-color: var(--fill-color);\n",
              "    }\n",
              "    40% {\n",
              "      border-color: transparent;\n",
              "      border-right-color: var(--fill-color);\n",
              "      border-top-color: var(--fill-color);\n",
              "    }\n",
              "    60% {\n",
              "      border-color: transparent;\n",
              "      border-right-color: var(--fill-color);\n",
              "    }\n",
              "    80% {\n",
              "      border-color: transparent;\n",
              "      border-right-color: var(--fill-color);\n",
              "      border-bottom-color: var(--fill-color);\n",
              "    }\n",
              "    90% {\n",
              "      border-color: transparent;\n",
              "      border-bottom-color: var(--fill-color);\n",
              "    }\n",
              "  }\n",
              "</style>\n",
              "\n",
              "  <script>\n",
              "    async function quickchart(key) {\n",
              "      const quickchartButtonEl =\n",
              "        document.querySelector('#' + key + ' button');\n",
              "      quickchartButtonEl.disabled = true;  // To prevent multiple clicks.\n",
              "      quickchartButtonEl.classList.add('colab-df-spinner');\n",
              "      try {\n",
              "        const charts = await google.colab.kernel.invokeFunction(\n",
              "            'suggestCharts', [key], {});\n",
              "      } catch (error) {\n",
              "        console.error('Error during call to suggestCharts:', error);\n",
              "      }\n",
              "      quickchartButtonEl.classList.remove('colab-df-spinner');\n",
              "      quickchartButtonEl.classList.add('colab-df-quickchart-complete');\n",
              "    }\n",
              "    (() => {\n",
              "      let quickchartButtonEl =\n",
              "        document.querySelector('#df-377af1e0-9c4b-48a0-b396-23e4a62df805 button');\n",
              "      quickchartButtonEl.style.display =\n",
              "        google.colab.kernel.accessAllowed ? 'block' : 'none';\n",
              "    })();\n",
              "  </script>\n",
              "</div>\n",
              "\n",
              "    </div>\n",
              "  </div>\n"
            ]
          },
          "metadata": {},
          "execution_count": 3
        }
      ]
    },
    {
      "cell_type": "code",
      "metadata": {
        "colab": {
          "base_uri": "https://localhost:8080/",
          "height": 206
        },
        "id": "NrywfHOBb6HD",
        "outputId": "cbc9921c-659f-4b00-baa0-5bd3ce16167a"
      },
      "source": [
        "# print last 5 rows of the dataframe\n",
        "gold_data.tail()"
      ],
      "execution_count": 4,
      "outputs": [
        {
          "output_type": "execute_result",
          "data": {
            "text/plain": [
              "           Date          SPX         GLD      USO      SLV   EUR/USD\n",
              "2285   5/8/2018  2671.919922  124.589996  14.0600  15.5100  1.186789\n",
              "2286   5/9/2018  2697.790039  124.330002  14.3700  15.5300  1.184722\n",
              "2287  5/10/2018  2723.070068  125.180000  14.4100  15.7400  1.191753\n",
              "2288  5/14/2018  2730.129883  124.489998  14.3800  15.5600  1.193118\n",
              "2289  5/16/2018  2725.780029  122.543800  14.4058  15.4542  1.182033"
            ],
            "text/html": [
              "\n",
              "  <div id=\"df-1bfa562e-d1c2-417e-b324-590881dedf24\" class=\"colab-df-container\">\n",
              "    <div>\n",
              "<style scoped>\n",
              "    .dataframe tbody tr th:only-of-type {\n",
              "        vertical-align: middle;\n",
              "    }\n",
              "\n",
              "    .dataframe tbody tr th {\n",
              "        vertical-align: top;\n",
              "    }\n",
              "\n",
              "    .dataframe thead th {\n",
              "        text-align: right;\n",
              "    }\n",
              "</style>\n",
              "<table border=\"1\" class=\"dataframe\">\n",
              "  <thead>\n",
              "    <tr style=\"text-align: right;\">\n",
              "      <th></th>\n",
              "      <th>Date</th>\n",
              "      <th>SPX</th>\n",
              "      <th>GLD</th>\n",
              "      <th>USO</th>\n",
              "      <th>SLV</th>\n",
              "      <th>EUR/USD</th>\n",
              "    </tr>\n",
              "  </thead>\n",
              "  <tbody>\n",
              "    <tr>\n",
              "      <th>2285</th>\n",
              "      <td>5/8/2018</td>\n",
              "      <td>2671.919922</td>\n",
              "      <td>124.589996</td>\n",
              "      <td>14.0600</td>\n",
              "      <td>15.5100</td>\n",
              "      <td>1.186789</td>\n",
              "    </tr>\n",
              "    <tr>\n",
              "      <th>2286</th>\n",
              "      <td>5/9/2018</td>\n",
              "      <td>2697.790039</td>\n",
              "      <td>124.330002</td>\n",
              "      <td>14.3700</td>\n",
              "      <td>15.5300</td>\n",
              "      <td>1.184722</td>\n",
              "    </tr>\n",
              "    <tr>\n",
              "      <th>2287</th>\n",
              "      <td>5/10/2018</td>\n",
              "      <td>2723.070068</td>\n",
              "      <td>125.180000</td>\n",
              "      <td>14.4100</td>\n",
              "      <td>15.7400</td>\n",
              "      <td>1.191753</td>\n",
              "    </tr>\n",
              "    <tr>\n",
              "      <th>2288</th>\n",
              "      <td>5/14/2018</td>\n",
              "      <td>2730.129883</td>\n",
              "      <td>124.489998</td>\n",
              "      <td>14.3800</td>\n",
              "      <td>15.5600</td>\n",
              "      <td>1.193118</td>\n",
              "    </tr>\n",
              "    <tr>\n",
              "      <th>2289</th>\n",
              "      <td>5/16/2018</td>\n",
              "      <td>2725.780029</td>\n",
              "      <td>122.543800</td>\n",
              "      <td>14.4058</td>\n",
              "      <td>15.4542</td>\n",
              "      <td>1.182033</td>\n",
              "    </tr>\n",
              "  </tbody>\n",
              "</table>\n",
              "</div>\n",
              "    <div class=\"colab-df-buttons\">\n",
              "\n",
              "  <div class=\"colab-df-container\">\n",
              "    <button class=\"colab-df-convert\" onclick=\"convertToInteractive('df-1bfa562e-d1c2-417e-b324-590881dedf24')\"\n",
              "            title=\"Convert this dataframe to an interactive table.\"\n",
              "            style=\"display:none;\">\n",
              "\n",
              "  <svg xmlns=\"http://www.w3.org/2000/svg\" height=\"24px\" viewBox=\"0 -960 960 960\">\n",
              "    <path d=\"M120-120v-720h720v720H120Zm60-500h600v-160H180v160Zm220 220h160v-160H400v160Zm0 220h160v-160H400v160ZM180-400h160v-160H180v160Zm440 0h160v-160H620v160ZM180-180h160v-160H180v160Zm440 0h160v-160H620v160Z\"/>\n",
              "  </svg>\n",
              "    </button>\n",
              "\n",
              "  <style>\n",
              "    .colab-df-container {\n",
              "      display:flex;\n",
              "      gap: 12px;\n",
              "    }\n",
              "\n",
              "    .colab-df-convert {\n",
              "      background-color: #E8F0FE;\n",
              "      border: none;\n",
              "      border-radius: 50%;\n",
              "      cursor: pointer;\n",
              "      display: none;\n",
              "      fill: #1967D2;\n",
              "      height: 32px;\n",
              "      padding: 0 0 0 0;\n",
              "      width: 32px;\n",
              "    }\n",
              "\n",
              "    .colab-df-convert:hover {\n",
              "      background-color: #E2EBFA;\n",
              "      box-shadow: 0px 1px 2px rgba(60, 64, 67, 0.3), 0px 1px 3px 1px rgba(60, 64, 67, 0.15);\n",
              "      fill: #174EA6;\n",
              "    }\n",
              "\n",
              "    .colab-df-buttons div {\n",
              "      margin-bottom: 4px;\n",
              "    }\n",
              "\n",
              "    [theme=dark] .colab-df-convert {\n",
              "      background-color: #3B4455;\n",
              "      fill: #D2E3FC;\n",
              "    }\n",
              "\n",
              "    [theme=dark] .colab-df-convert:hover {\n",
              "      background-color: #434B5C;\n",
              "      box-shadow: 0px 1px 3px 1px rgba(0, 0, 0, 0.15);\n",
              "      filter: drop-shadow(0px 1px 2px rgba(0, 0, 0, 0.3));\n",
              "      fill: #FFFFFF;\n",
              "    }\n",
              "  </style>\n",
              "\n",
              "    <script>\n",
              "      const buttonEl =\n",
              "        document.querySelector('#df-1bfa562e-d1c2-417e-b324-590881dedf24 button.colab-df-convert');\n",
              "      buttonEl.style.display =\n",
              "        google.colab.kernel.accessAllowed ? 'block' : 'none';\n",
              "\n",
              "      async function convertToInteractive(key) {\n",
              "        const element = document.querySelector('#df-1bfa562e-d1c2-417e-b324-590881dedf24');\n",
              "        const dataTable =\n",
              "          await google.colab.kernel.invokeFunction('convertToInteractive',\n",
              "                                                    [key], {});\n",
              "        if (!dataTable) return;\n",
              "\n",
              "        const docLinkHtml = 'Like what you see? Visit the ' +\n",
              "          '<a target=\"_blank\" href=https://colab.research.google.com/notebooks/data_table.ipynb>data table notebook</a>'\n",
              "          + ' to learn more about interactive tables.';\n",
              "        element.innerHTML = '';\n",
              "        dataTable['output_type'] = 'display_data';\n",
              "        await google.colab.output.renderOutput(dataTable, element);\n",
              "        const docLink = document.createElement('div');\n",
              "        docLink.innerHTML = docLinkHtml;\n",
              "        element.appendChild(docLink);\n",
              "      }\n",
              "    </script>\n",
              "  </div>\n",
              "\n",
              "\n",
              "<div id=\"df-e464577f-0dc6-468a-97b4-157e2fae96cb\">\n",
              "  <button class=\"colab-df-quickchart\" onclick=\"quickchart('df-e464577f-0dc6-468a-97b4-157e2fae96cb')\"\n",
              "            title=\"Suggest charts\"\n",
              "            style=\"display:none;\">\n",
              "\n",
              "<svg xmlns=\"http://www.w3.org/2000/svg\" height=\"24px\"viewBox=\"0 0 24 24\"\n",
              "     width=\"24px\">\n",
              "    <g>\n",
              "        <path d=\"M19 3H5c-1.1 0-2 .9-2 2v14c0 1.1.9 2 2 2h14c1.1 0 2-.9 2-2V5c0-1.1-.9-2-2-2zM9 17H7v-7h2v7zm4 0h-2V7h2v10zm4 0h-2v-4h2v4z\"/>\n",
              "    </g>\n",
              "</svg>\n",
              "  </button>\n",
              "\n",
              "<style>\n",
              "  .colab-df-quickchart {\n",
              "      --bg-color: #E8F0FE;\n",
              "      --fill-color: #1967D2;\n",
              "      --hover-bg-color: #E2EBFA;\n",
              "      --hover-fill-color: #174EA6;\n",
              "      --disabled-fill-color: #AAA;\n",
              "      --disabled-bg-color: #DDD;\n",
              "  }\n",
              "\n",
              "  [theme=dark] .colab-df-quickchart {\n",
              "      --bg-color: #3B4455;\n",
              "      --fill-color: #D2E3FC;\n",
              "      --hover-bg-color: #434B5C;\n",
              "      --hover-fill-color: #FFFFFF;\n",
              "      --disabled-bg-color: #3B4455;\n",
              "      --disabled-fill-color: #666;\n",
              "  }\n",
              "\n",
              "  .colab-df-quickchart {\n",
              "    background-color: var(--bg-color);\n",
              "    border: none;\n",
              "    border-radius: 50%;\n",
              "    cursor: pointer;\n",
              "    display: none;\n",
              "    fill: var(--fill-color);\n",
              "    height: 32px;\n",
              "    padding: 0;\n",
              "    width: 32px;\n",
              "  }\n",
              "\n",
              "  .colab-df-quickchart:hover {\n",
              "    background-color: var(--hover-bg-color);\n",
              "    box-shadow: 0 1px 2px rgba(60, 64, 67, 0.3), 0 1px 3px 1px rgba(60, 64, 67, 0.15);\n",
              "    fill: var(--button-hover-fill-color);\n",
              "  }\n",
              "\n",
              "  .colab-df-quickchart-complete:disabled,\n",
              "  .colab-df-quickchart-complete:disabled:hover {\n",
              "    background-color: var(--disabled-bg-color);\n",
              "    fill: var(--disabled-fill-color);\n",
              "    box-shadow: none;\n",
              "  }\n",
              "\n",
              "  .colab-df-spinner {\n",
              "    border: 2px solid var(--fill-color);\n",
              "    border-color: transparent;\n",
              "    border-bottom-color: var(--fill-color);\n",
              "    animation:\n",
              "      spin 1s steps(1) infinite;\n",
              "  }\n",
              "\n",
              "  @keyframes spin {\n",
              "    0% {\n",
              "      border-color: transparent;\n",
              "      border-bottom-color: var(--fill-color);\n",
              "      border-left-color: var(--fill-color);\n",
              "    }\n",
              "    20% {\n",
              "      border-color: transparent;\n",
              "      border-left-color: var(--fill-color);\n",
              "      border-top-color: var(--fill-color);\n",
              "    }\n",
              "    30% {\n",
              "      border-color: transparent;\n",
              "      border-left-color: var(--fill-color);\n",
              "      border-top-color: var(--fill-color);\n",
              "      border-right-color: var(--fill-color);\n",
              "    }\n",
              "    40% {\n",
              "      border-color: transparent;\n",
              "      border-right-color: var(--fill-color);\n",
              "      border-top-color: var(--fill-color);\n",
              "    }\n",
              "    60% {\n",
              "      border-color: transparent;\n",
              "      border-right-color: var(--fill-color);\n",
              "    }\n",
              "    80% {\n",
              "      border-color: transparent;\n",
              "      border-right-color: var(--fill-color);\n",
              "      border-bottom-color: var(--fill-color);\n",
              "    }\n",
              "    90% {\n",
              "      border-color: transparent;\n",
              "      border-bottom-color: var(--fill-color);\n",
              "    }\n",
              "  }\n",
              "</style>\n",
              "\n",
              "  <script>\n",
              "    async function quickchart(key) {\n",
              "      const quickchartButtonEl =\n",
              "        document.querySelector('#' + key + ' button');\n",
              "      quickchartButtonEl.disabled = true;  // To prevent multiple clicks.\n",
              "      quickchartButtonEl.classList.add('colab-df-spinner');\n",
              "      try {\n",
              "        const charts = await google.colab.kernel.invokeFunction(\n",
              "            'suggestCharts', [key], {});\n",
              "      } catch (error) {\n",
              "        console.error('Error during call to suggestCharts:', error);\n",
              "      }\n",
              "      quickchartButtonEl.classList.remove('colab-df-spinner');\n",
              "      quickchartButtonEl.classList.add('colab-df-quickchart-complete');\n",
              "    }\n",
              "    (() => {\n",
              "      let quickchartButtonEl =\n",
              "        document.querySelector('#df-e464577f-0dc6-468a-97b4-157e2fae96cb button');\n",
              "      quickchartButtonEl.style.display =\n",
              "        google.colab.kernel.accessAllowed ? 'block' : 'none';\n",
              "    })();\n",
              "  </script>\n",
              "</div>\n",
              "\n",
              "    </div>\n",
              "  </div>\n"
            ]
          },
          "metadata": {},
          "execution_count": 4
        }
      ]
    },
    {
      "cell_type": "code",
      "metadata": {
        "colab": {
          "base_uri": "https://localhost:8080/",
          "height": 0
        },
        "id": "vgnDjvpocdUp",
        "outputId": "4d3e0251-a9d7-4ab2-f4cf-aa3acc1f8a5e"
      },
      "source": [
        "# number of rows and columns\n",
        "gold_data.shape"
      ],
      "execution_count": 5,
      "outputs": [
        {
          "output_type": "execute_result",
          "data": {
            "text/plain": [
              "(2290, 6)"
            ]
          },
          "metadata": {},
          "execution_count": 5
        }
      ]
    },
    {
      "cell_type": "code",
      "metadata": {
        "colab": {
          "base_uri": "https://localhost:8080/",
          "height": 0
        },
        "id": "9SEXC4AWcnDu",
        "outputId": "09422705-a32a-4bc1-8236-46385b848d0c"
      },
      "source": [
        "# getting some basic informations about the data\n",
        "gold_data.info()"
      ],
      "execution_count": 6,
      "outputs": [
        {
          "output_type": "stream",
          "name": "stdout",
          "text": [
            "<class 'pandas.core.frame.DataFrame'>\n",
            "RangeIndex: 2290 entries, 0 to 2289\n",
            "Data columns (total 6 columns):\n",
            " #   Column   Non-Null Count  Dtype  \n",
            "---  ------   --------------  -----  \n",
            " 0   Date     2290 non-null   object \n",
            " 1   SPX      2290 non-null   float64\n",
            " 2   GLD      2290 non-null   float64\n",
            " 3   USO      2290 non-null   float64\n",
            " 4   SLV      2290 non-null   float64\n",
            " 5   EUR/USD  2290 non-null   float64\n",
            "dtypes: float64(5), object(1)\n",
            "memory usage: 107.5+ KB\n"
          ]
        }
      ]
    },
    {
      "cell_type": "code",
      "metadata": {
        "colab": {
          "base_uri": "https://localhost:8080/",
          "height": 0
        },
        "id": "tjmFVXi2cv4Q",
        "outputId": "ffb35577-6f85-415a-e91b-8c428a85ab15"
      },
      "source": [
        "# checking the number of missing values\n",
        "gold_data.isnull().sum()"
      ],
      "execution_count": 7,
      "outputs": [
        {
          "output_type": "execute_result",
          "data": {
            "text/plain": [
              "Date       0\n",
              "SPX        0\n",
              "GLD        0\n",
              "USO        0\n",
              "SLV        0\n",
              "EUR/USD    0\n",
              "dtype: int64"
            ]
          },
          "metadata": {},
          "execution_count": 7
        }
      ]
    },
    {
      "cell_type": "code",
      "metadata": {
        "colab": {
          "base_uri": "https://localhost:8080/",
          "height": 300
        },
        "id": "9IcOnRfhc7zv",
        "outputId": "97978691-f239-41d0-ec57-03f05c854d1d"
      },
      "source": [
        "# getting the statistical measures of the data\n",
        "gold_data.describe()"
      ],
      "execution_count": 8,
      "outputs": [
        {
          "output_type": "execute_result",
          "data": {
            "text/plain": [
              "               SPX          GLD          USO          SLV      EUR/USD\n",
              "count  2290.000000  2290.000000  2290.000000  2290.000000  2290.000000\n",
              "mean   1654.315776   122.732875    31.842221    20.084997     1.283653\n",
              "std     519.111540    23.283346    19.523517     7.092566     0.131547\n",
              "min     676.530029    70.000000     7.960000     8.850000     1.039047\n",
              "25%    1239.874969   109.725000    14.380000    15.570000     1.171313\n",
              "50%    1551.434998   120.580002    33.869999    17.268500     1.303297\n",
              "75%    2073.010070   132.840004    37.827501    22.882500     1.369971\n",
              "max    2872.870117   184.589996   117.480003    47.259998     1.598798"
            ],
            "text/html": [
              "\n",
              "  <div id=\"df-b8c16835-3a22-4fe4-b13c-5fc2a59cf930\" class=\"colab-df-container\">\n",
              "    <div>\n",
              "<style scoped>\n",
              "    .dataframe tbody tr th:only-of-type {\n",
              "        vertical-align: middle;\n",
              "    }\n",
              "\n",
              "    .dataframe tbody tr th {\n",
              "        vertical-align: top;\n",
              "    }\n",
              "\n",
              "    .dataframe thead th {\n",
              "        text-align: right;\n",
              "    }\n",
              "</style>\n",
              "<table border=\"1\" class=\"dataframe\">\n",
              "  <thead>\n",
              "    <tr style=\"text-align: right;\">\n",
              "      <th></th>\n",
              "      <th>SPX</th>\n",
              "      <th>GLD</th>\n",
              "      <th>USO</th>\n",
              "      <th>SLV</th>\n",
              "      <th>EUR/USD</th>\n",
              "    </tr>\n",
              "  </thead>\n",
              "  <tbody>\n",
              "    <tr>\n",
              "      <th>count</th>\n",
              "      <td>2290.000000</td>\n",
              "      <td>2290.000000</td>\n",
              "      <td>2290.000000</td>\n",
              "      <td>2290.000000</td>\n",
              "      <td>2290.000000</td>\n",
              "    </tr>\n",
              "    <tr>\n",
              "      <th>mean</th>\n",
              "      <td>1654.315776</td>\n",
              "      <td>122.732875</td>\n",
              "      <td>31.842221</td>\n",
              "      <td>20.084997</td>\n",
              "      <td>1.283653</td>\n",
              "    </tr>\n",
              "    <tr>\n",
              "      <th>std</th>\n",
              "      <td>519.111540</td>\n",
              "      <td>23.283346</td>\n",
              "      <td>19.523517</td>\n",
              "      <td>7.092566</td>\n",
              "      <td>0.131547</td>\n",
              "    </tr>\n",
              "    <tr>\n",
              "      <th>min</th>\n",
              "      <td>676.530029</td>\n",
              "      <td>70.000000</td>\n",
              "      <td>7.960000</td>\n",
              "      <td>8.850000</td>\n",
              "      <td>1.039047</td>\n",
              "    </tr>\n",
              "    <tr>\n",
              "      <th>25%</th>\n",
              "      <td>1239.874969</td>\n",
              "      <td>109.725000</td>\n",
              "      <td>14.380000</td>\n",
              "      <td>15.570000</td>\n",
              "      <td>1.171313</td>\n",
              "    </tr>\n",
              "    <tr>\n",
              "      <th>50%</th>\n",
              "      <td>1551.434998</td>\n",
              "      <td>120.580002</td>\n",
              "      <td>33.869999</td>\n",
              "      <td>17.268500</td>\n",
              "      <td>1.303297</td>\n",
              "    </tr>\n",
              "    <tr>\n",
              "      <th>75%</th>\n",
              "      <td>2073.010070</td>\n",
              "      <td>132.840004</td>\n",
              "      <td>37.827501</td>\n",
              "      <td>22.882500</td>\n",
              "      <td>1.369971</td>\n",
              "    </tr>\n",
              "    <tr>\n",
              "      <th>max</th>\n",
              "      <td>2872.870117</td>\n",
              "      <td>184.589996</td>\n",
              "      <td>117.480003</td>\n",
              "      <td>47.259998</td>\n",
              "      <td>1.598798</td>\n",
              "    </tr>\n",
              "  </tbody>\n",
              "</table>\n",
              "</div>\n",
              "    <div class=\"colab-df-buttons\">\n",
              "\n",
              "  <div class=\"colab-df-container\">\n",
              "    <button class=\"colab-df-convert\" onclick=\"convertToInteractive('df-b8c16835-3a22-4fe4-b13c-5fc2a59cf930')\"\n",
              "            title=\"Convert this dataframe to an interactive table.\"\n",
              "            style=\"display:none;\">\n",
              "\n",
              "  <svg xmlns=\"http://www.w3.org/2000/svg\" height=\"24px\" viewBox=\"0 -960 960 960\">\n",
              "    <path d=\"M120-120v-720h720v720H120Zm60-500h600v-160H180v160Zm220 220h160v-160H400v160Zm0 220h160v-160H400v160ZM180-400h160v-160H180v160Zm440 0h160v-160H620v160ZM180-180h160v-160H180v160Zm440 0h160v-160H620v160Z\"/>\n",
              "  </svg>\n",
              "    </button>\n",
              "\n",
              "  <style>\n",
              "    .colab-df-container {\n",
              "      display:flex;\n",
              "      gap: 12px;\n",
              "    }\n",
              "\n",
              "    .colab-df-convert {\n",
              "      background-color: #E8F0FE;\n",
              "      border: none;\n",
              "      border-radius: 50%;\n",
              "      cursor: pointer;\n",
              "      display: none;\n",
              "      fill: #1967D2;\n",
              "      height: 32px;\n",
              "      padding: 0 0 0 0;\n",
              "      width: 32px;\n",
              "    }\n",
              "\n",
              "    .colab-df-convert:hover {\n",
              "      background-color: #E2EBFA;\n",
              "      box-shadow: 0px 1px 2px rgba(60, 64, 67, 0.3), 0px 1px 3px 1px rgba(60, 64, 67, 0.15);\n",
              "      fill: #174EA6;\n",
              "    }\n",
              "\n",
              "    .colab-df-buttons div {\n",
              "      margin-bottom: 4px;\n",
              "    }\n",
              "\n",
              "    [theme=dark] .colab-df-convert {\n",
              "      background-color: #3B4455;\n",
              "      fill: #D2E3FC;\n",
              "    }\n",
              "\n",
              "    [theme=dark] .colab-df-convert:hover {\n",
              "      background-color: #434B5C;\n",
              "      box-shadow: 0px 1px 3px 1px rgba(0, 0, 0, 0.15);\n",
              "      filter: drop-shadow(0px 1px 2px rgba(0, 0, 0, 0.3));\n",
              "      fill: #FFFFFF;\n",
              "    }\n",
              "  </style>\n",
              "\n",
              "    <script>\n",
              "      const buttonEl =\n",
              "        document.querySelector('#df-b8c16835-3a22-4fe4-b13c-5fc2a59cf930 button.colab-df-convert');\n",
              "      buttonEl.style.display =\n",
              "        google.colab.kernel.accessAllowed ? 'block' : 'none';\n",
              "\n",
              "      async function convertToInteractive(key) {\n",
              "        const element = document.querySelector('#df-b8c16835-3a22-4fe4-b13c-5fc2a59cf930');\n",
              "        const dataTable =\n",
              "          await google.colab.kernel.invokeFunction('convertToInteractive',\n",
              "                                                    [key], {});\n",
              "        if (!dataTable) return;\n",
              "\n",
              "        const docLinkHtml = 'Like what you see? Visit the ' +\n",
              "          '<a target=\"_blank\" href=https://colab.research.google.com/notebooks/data_table.ipynb>data table notebook</a>'\n",
              "          + ' to learn more about interactive tables.';\n",
              "        element.innerHTML = '';\n",
              "        dataTable['output_type'] = 'display_data';\n",
              "        await google.colab.output.renderOutput(dataTable, element);\n",
              "        const docLink = document.createElement('div');\n",
              "        docLink.innerHTML = docLinkHtml;\n",
              "        element.appendChild(docLink);\n",
              "      }\n",
              "    </script>\n",
              "  </div>\n",
              "\n",
              "\n",
              "<div id=\"df-94bcedd8-6038-467d-9812-439afdeb43c5\">\n",
              "  <button class=\"colab-df-quickchart\" onclick=\"quickchart('df-94bcedd8-6038-467d-9812-439afdeb43c5')\"\n",
              "            title=\"Suggest charts\"\n",
              "            style=\"display:none;\">\n",
              "\n",
              "<svg xmlns=\"http://www.w3.org/2000/svg\" height=\"24px\"viewBox=\"0 0 24 24\"\n",
              "     width=\"24px\">\n",
              "    <g>\n",
              "        <path d=\"M19 3H5c-1.1 0-2 .9-2 2v14c0 1.1.9 2 2 2h14c1.1 0 2-.9 2-2V5c0-1.1-.9-2-2-2zM9 17H7v-7h2v7zm4 0h-2V7h2v10zm4 0h-2v-4h2v4z\"/>\n",
              "    </g>\n",
              "</svg>\n",
              "  </button>\n",
              "\n",
              "<style>\n",
              "  .colab-df-quickchart {\n",
              "      --bg-color: #E8F0FE;\n",
              "      --fill-color: #1967D2;\n",
              "      --hover-bg-color: #E2EBFA;\n",
              "      --hover-fill-color: #174EA6;\n",
              "      --disabled-fill-color: #AAA;\n",
              "      --disabled-bg-color: #DDD;\n",
              "  }\n",
              "\n",
              "  [theme=dark] .colab-df-quickchart {\n",
              "      --bg-color: #3B4455;\n",
              "      --fill-color: #D2E3FC;\n",
              "      --hover-bg-color: #434B5C;\n",
              "      --hover-fill-color: #FFFFFF;\n",
              "      --disabled-bg-color: #3B4455;\n",
              "      --disabled-fill-color: #666;\n",
              "  }\n",
              "\n",
              "  .colab-df-quickchart {\n",
              "    background-color: var(--bg-color);\n",
              "    border: none;\n",
              "    border-radius: 50%;\n",
              "    cursor: pointer;\n",
              "    display: none;\n",
              "    fill: var(--fill-color);\n",
              "    height: 32px;\n",
              "    padding: 0;\n",
              "    width: 32px;\n",
              "  }\n",
              "\n",
              "  .colab-df-quickchart:hover {\n",
              "    background-color: var(--hover-bg-color);\n",
              "    box-shadow: 0 1px 2px rgba(60, 64, 67, 0.3), 0 1px 3px 1px rgba(60, 64, 67, 0.15);\n",
              "    fill: var(--button-hover-fill-color);\n",
              "  }\n",
              "\n",
              "  .colab-df-quickchart-complete:disabled,\n",
              "  .colab-df-quickchart-complete:disabled:hover {\n",
              "    background-color: var(--disabled-bg-color);\n",
              "    fill: var(--disabled-fill-color);\n",
              "    box-shadow: none;\n",
              "  }\n",
              "\n",
              "  .colab-df-spinner {\n",
              "    border: 2px solid var(--fill-color);\n",
              "    border-color: transparent;\n",
              "    border-bottom-color: var(--fill-color);\n",
              "    animation:\n",
              "      spin 1s steps(1) infinite;\n",
              "  }\n",
              "\n",
              "  @keyframes spin {\n",
              "    0% {\n",
              "      border-color: transparent;\n",
              "      border-bottom-color: var(--fill-color);\n",
              "      border-left-color: var(--fill-color);\n",
              "    }\n",
              "    20% {\n",
              "      border-color: transparent;\n",
              "      border-left-color: var(--fill-color);\n",
              "      border-top-color: var(--fill-color);\n",
              "    }\n",
              "    30% {\n",
              "      border-color: transparent;\n",
              "      border-left-color: var(--fill-color);\n",
              "      border-top-color: var(--fill-color);\n",
              "      border-right-color: var(--fill-color);\n",
              "    }\n",
              "    40% {\n",
              "      border-color: transparent;\n",
              "      border-right-color: var(--fill-color);\n",
              "      border-top-color: var(--fill-color);\n",
              "    }\n",
              "    60% {\n",
              "      border-color: transparent;\n",
              "      border-right-color: var(--fill-color);\n",
              "    }\n",
              "    80% {\n",
              "      border-color: transparent;\n",
              "      border-right-color: var(--fill-color);\n",
              "      border-bottom-color: var(--fill-color);\n",
              "    }\n",
              "    90% {\n",
              "      border-color: transparent;\n",
              "      border-bottom-color: var(--fill-color);\n",
              "    }\n",
              "  }\n",
              "</style>\n",
              "\n",
              "  <script>\n",
              "    async function quickchart(key) {\n",
              "      const quickchartButtonEl =\n",
              "        document.querySelector('#' + key + ' button');\n",
              "      quickchartButtonEl.disabled = true;  // To prevent multiple clicks.\n",
              "      quickchartButtonEl.classList.add('colab-df-spinner');\n",
              "      try {\n",
              "        const charts = await google.colab.kernel.invokeFunction(\n",
              "            'suggestCharts', [key], {});\n",
              "      } catch (error) {\n",
              "        console.error('Error during call to suggestCharts:', error);\n",
              "      }\n",
              "      quickchartButtonEl.classList.remove('colab-df-spinner');\n",
              "      quickchartButtonEl.classList.add('colab-df-quickchart-complete');\n",
              "    }\n",
              "    (() => {\n",
              "      let quickchartButtonEl =\n",
              "        document.querySelector('#df-94bcedd8-6038-467d-9812-439afdeb43c5 button');\n",
              "      quickchartButtonEl.style.display =\n",
              "        google.colab.kernel.accessAllowed ? 'block' : 'none';\n",
              "    })();\n",
              "  </script>\n",
              "</div>\n",
              "\n",
              "    </div>\n",
              "  </div>\n"
            ]
          },
          "metadata": {},
          "execution_count": 8
        }
      ]
    },
    {
      "cell_type": "markdown",
      "metadata": {
        "id": "f9SUQ8hodW4b"
      },
      "source": [
        "Correlation:\n",
        "1. Positive Correlation\n",
        "2. Negative Correlation"
      ]
    },
    {
      "cell_type": "code",
      "metadata": {
        "id": "C3xgji81dJUW",
        "colab": {
          "base_uri": "https://localhost:8080/",
          "height": 0
        },
        "outputId": "7e60a99c-6299-40f2-8083-4d1043481943"
      },
      "source": [
        "correlation = gold_data.corr()"
      ],
      "execution_count": 9,
      "outputs": [
        {
          "output_type": "stream",
          "name": "stderr",
          "text": [
            "<ipython-input-9-b9d572e5c3ef>:1: FutureWarning: The default value of numeric_only in DataFrame.corr is deprecated. In a future version, it will default to False. Select only valid columns or specify the value of numeric_only to silence this warning.\n",
            "  correlation = gold_data.corr()\n"
          ]
        }
      ]
    },
    {
      "cell_type": "code",
      "metadata": {
        "colab": {
          "base_uri": "https://localhost:8080/",
          "height": 675
        },
        "id": "oOqb9j0Ad-Zx",
        "outputId": "b4a0d732-22ba-4c83-958a-cdc21133dfcf"
      },
      "source": [
        "# constructing a heatmap to understand the correlatiom\n",
        "plt.figure(figsize = (8,8))\n",
        "sns.heatmap(correlation, cbar=True, square=True, fmt='.1f',annot=True, annot_kws={'size':8}, cmap='Reds')"
      ],
      "execution_count": 10,
      "outputs": [
        {
          "output_type": "execute_result",
          "data": {
            "text/plain": [
              "<Axes: >"
            ]
          },
          "metadata": {},
          "execution_count": 10
        },
        {
          "output_type": "display_data",
          "data": {
            "text/plain": [
              "<Figure size 800x800 with 2 Axes>"
            ],
            "image/png": "[encoded data removed]"
          },
          "metadata": {}
        }
      ]
    },
    {
      "cell_type": "code",
      "metadata": {
        "colab": {
          "base_uri": "https://localhost:8080/",
          "height": 0
        },
        "id": "qtQ_icjRemI4",
        "outputId": "60c7db81-f224-463c-86a7-2bef02b588da"
      },
      "source": [
        "# correlation values of GLD\n",
        "print(correlation['GLD'])"
      ],
      "execution_count": 11,
      "outputs": [
        {
          "output_type": "stream",
          "name": "stdout",
          "text": [
            "SPX        0.049345\n",
            "GLD        1.000000\n",
            "USO       -0.186360\n",
            "SLV        0.866632\n",
            "EUR/USD   -0.024375\n",
            "Name: GLD, dtype: float64\n"
          ]
        }
      ]
    },
    {
      "cell_type": "code",
      "metadata": {
        "colab": {
          "base_uri": "https://localhost:8080/",
          "height": 662
        },
        "id": "TMr-xVEwfIKg",
        "outputId": "222a7b55-4fa5-45d9-9ba2-84ef8bd095ad"
      },
      "source": [
        "# checking the distribution of the GLD Price\n",
        "sns.distplot(gold_data['GLD'],color='red')"
      ],
      "execution_count": 12,
      "outputs": [
        {
          "output_type": "stream",
          "name": "stderr",
          "text": [
            "<ipython-input-12-d3687c342f40>:2: UserWarning: \n",
            "\n",
            "`distplot` is a deprecated function and will be removed in seaborn v0.14.0.\n",
            "\n",
            "Please adapt your code to use either `displot` (a figure-level function with\n",
            "similar flexibility) or `histplot` (an axes-level function for histograms).\n",
            "\n",
            "For a guide to updating your code to use the new functions, please see\n",
            "https://gist.github.com/mwaskom/de44147ed2974457ad6372750bbe5751\n",
            "\n",
            "  sns.distplot(gold_data['GLD'],color='red')\n"
          ]
        },
        {
          "output_type": "execute_result",
          "data": {
            "text/plain": [
              "<Axes: xlabel='GLD', ylabel='Density'>"
            ]
          },
          "metadata": {},
          "execution_count": 12
        },
        {
          "output_type": "display_data",
          "data": {
            "text/plain": [
              "<Figure size 640x480 with 1 Axes>"
            ],
            "image/png": "[encoded data removed]"
          },
          "metadata": {}
        }
      ]
    },
    {
      "cell_type": "markdown",
      "metadata": {
        "id": "4bdwLbPEfqWI"
      },
      "source": [
        "Splitting the Features and Target"
      ]
    },
    {
      "cell_type": "code",
      "metadata": {
        "id": "SJNxCR0vfWxe"
      },
      "source": [
        "X = gold_data.drop(['Date','GLD'],axis=1)\n",
        "Y = gold_data['GLD']"
      ],
      "execution_count": 13,
      "outputs": []
    },
    {
      "cell_type": "code",
      "metadata": {
        "colab": {
          "base_uri": "https://localhost:8080/",
          "height": 0
        },
        "id": "qW9UvLSNf8zH",
        "outputId": "9df8a58b-2fdd-47a1-9663-0ad8f72d54f4"
      },
      "source": [
        "print(X)"
      ],
      "execution_count": 14,
      "outputs": [
        {
          "output_type": "stream",
          "name": "stdout",
          "text": [
            "              SPX        USO      SLV   EUR/USD\n",
            "0     1447.160034  78.470001  15.1800  1.471692\n",
            "1     1447.160034  78.370003  15.2850  1.474491\n",
            "2     1411.630005  77.309998  15.1670  1.475492\n",
            "3     1416.180054  75.500000  15.0530  1.468299\n",
            "4     1390.189941  76.059998  15.5900  1.557099\n",
            "...           ...        ...      ...       ...\n",
            "2285  2671.919922  14.060000  15.5100  1.186789\n",
            "2286  2697.790039  14.370000  15.5300  1.184722\n",
            "2287  2723.070068  14.410000  15.7400  1.191753\n",
            "2288  2730.129883  14.380000  15.5600  1.193118\n",
            "2289  2725.780029  14.405800  15.4542  1.182033\n",
            "\n",
            "[2290 rows x 4 columns]\n"
          ]
        }
      ]
    },
    {
      "cell_type": "code",
      "metadata": {
        "colab": {
          "base_uri": "https://localhost:8080/",
          "height": 0
        },
        "id": "lKUe3C-qf9y8",
        "outputId": "9a65f211-47ce-48e6-867e-3958652a42cc"
      },
      "source": [
        "print(Y)"
      ],
      "execution_count": 15,
      "outputs": [
        {
          "output_type": "stream",
          "name": "stdout",
          "text": [
            "0        84.860001\n",
            "1        85.570000\n",
            "2        85.129997\n",
            "3        84.769997\n",
            "4        86.779999\n",
            "           ...    \n",
            "2285    124.589996\n",
            "2286    124.330002\n",
            "2287    125.180000\n",
            "2288    124.489998\n",
            "2289    122.543800\n",
            "Name: GLD, Length: 2290, dtype: float64\n"
          ]
        }
      ]
    },
    {
      "cell_type": "markdown",
      "metadata": {
        "id": "nv8UohBVgE1Z"
      },
      "source": [
        "Splitting into Training data and Test Data"
      ]
    },
    {
      "cell_type": "code",
      "metadata": {
        "id": "KkrUByFugBUn"
      },
      "source": [
        "X_train, X_test, Y_train, Y_test = train_test_split(X, Y, test_size = 0.2, random_state=2)"
      ],
      "execution_count": 16,
      "outputs": []
    },
    {
      "cell_type": "markdown",
      "metadata": {
        "id": "1vrCHktWgqfi"
      },
      "source": [
        "Model Training:\n",
        "Random Forest Regressor"
      ]
    },
    {
      "cell_type": "code",
      "metadata": {
        "id": "N17qRKKGgoaZ"
      },
      "source": [
        "regressor = RandomForestRegressor(n_estimators=100)"
      ],
      "execution_count": 17,
      "outputs": []
    },
    {
      "cell_type": "code",
      "metadata": {
        "colab": {
          "base_uri": "https://localhost:8080/",
          "height": 74
        },
        "id": "DP2he4-PhMso",
        "outputId": "530529a9-ccf3-4e6d-fa8c-869bbeeee520"
      },
      "source": [
        "# training the model\n",
        "regressor.fit(X_train,Y_train)"
      ],
      "execution_count": 18,
      "outputs": [
        {
          "output_type": "execute_result",
          "data": {
            "text/plain": [
              "RandomForestRegressor()"
            ],
            "text/html": [
              "<style>#sk-container-id-1 {color: black;background-color: white;}#sk-container-id-1 pre{padding: 0;}#sk-container-id-1 div.sk-toggleable {background-color: white;}#sk-container-id-1 label.sk-toggleable__label {cursor: pointer;display: block;width: 100%;margin-bottom: 0;padding: 0.3em;box-sizing: border-box;text-align: center;}#sk-container-id-1 label.sk-toggleable__label-arrow:before {content: \"▸\";float: left;margin-right: 0.25em;color: #696969;}#sk-container-id-1 label.sk-toggleable__label-arrow:hover:before {color: black;}#sk-container-id-1 div.sk-estimator:hover label.sk-toggleable__label-arrow:before {color: black;}#sk-container-id-1 div.sk-toggleable__content {max-height: 0;max-width: 0;overflow: hidden;text-align: left;background-color: #f0f8ff;}#sk-container-id-1 div.sk-toggleable__content pre {margin: 0.2em;color: black;border-radius: 0.25em;background-color: #f0f8ff;}#sk-container-id-1 input.sk-toggleable__control:checked~div.sk-toggleable__content {max-height: 200px;max-width: 100%;overflow: auto;}#sk-container-id-1 input.sk-toggleable__control:checked~label.sk-toggleable__label-arrow:before {content: \"▾\";}#sk-container-id-1 div.sk-estimator input.sk-toggleable__control:checked~label.sk-toggleable__label {background-color: #d4ebff;}#sk-container-id-1 div.sk-label input.sk-toggleable__control:checked~label.sk-toggleable__label {background-color: #d4ebff;}#sk-container-id-1 input.sk-hidden--visually {border: 0;clip: rect(1px 1px 1px 1px);clip: rect(1px, 1px, 1px, 1px);height: 1px;margin: -1px;overflow: hidden;padding: 0;position: absolute;width: 1px;}#sk-container-id-1 div.sk-estimator {font-family: monospace;background-color: #f0f8ff;border: 1px dotted black;border-radius: 0.25em;box-sizing: border-box;margin-bottom: 0.5em;}#sk-container-id-1 div.sk-estimator:hover {background-color: #d4ebff;}#sk-container-id-1 div.sk-parallel-item::after {content: \"\";width: 100%;border-bottom: 1px solid gray;flex-grow: 1;}#sk-container-id-1 div.sk-label:hover label.sk-toggleable__label {background-color: #d4ebff;}#sk-container-id-1 div.sk-serial::before {content: \"\";position: absolute;border-left: 1px solid gray;box-sizing: border-box;top: 0;bottom: 0;left: 50%;z-index: 0;}#sk-container-id-1 div.sk-serial {display: flex;flex-direction: column;align-items: center;background-color: white;padding-right: 0.2em;padding-left: 0.2em;position: relative;}#sk-container-id-1 div.sk-item {position: relative;z-index: 1;}#sk-container-id-1 div.sk-parallel {display: flex;align-items: stretch;justify-content: center;background-color: white;position: relative;}#sk-container-id-1 div.sk-item::before, #sk-container-id-1 div.sk-parallel-item::before {content: \"\";position: absolute;border-left: 1px solid gray;box-sizing: border-box;top: 0;bottom: 0;left: 50%;z-index: -1;}#sk-container-id-1 div.sk-parallel-item {display: flex;flex-direction: column;z-index: 1;position: relative;background-color: white;}#sk-container-id-1 div.sk-parallel-item:first-child::after {align-self: flex-end;width: 50%;}#sk-container-id-1 div.sk-parallel-item:last-child::after {align-self: flex-start;width: 50%;}#sk-container-id-1 div.sk-parallel-item:only-child::after {width: 0;}#sk-container-id-1 div.sk-dashed-wrapped {border: 1px dashed gray;margin: 0 0.4em 0.5em 0.4em;box-sizing: border-box;padding-bottom: 0.4em;background-color: white;}#sk-container-id-1 div.sk-label label {font-family: monospace;font-weight: bold;display: inline-block;line-height: 1.2em;}#sk-container-id-1 div.sk-label-container {text-align: center;}#sk-container-id-1 div.sk-container {/* jupyter's `normalize.less` sets `[hidden] { display: none; }` but bootstrap.min.css set `[hidden] { display: none !important; }` so we also need the `!important` here to be able to override the default hidden behavior on the sphinx rendered scikit-learn.org. See: https://github.com/scikit-learn/scikit-learn/issues/21755 */display: inline-block !important;position: relative;}#sk-container-id-1 div.sk-text-repr-fallback {display: none;}</style><div id=\"sk-container-id-1\" class=\"sk-top-container\"><div class=\"sk-text-repr-fallback\"><pre>RandomForestRegressor()</pre><b>In a Jupyter environment, please rerun this cell to show the HTML representation or trust the notebook. <br />On GitHub, the HTML representation is unable to render, please try loading this page with nbviewer.org.</b></div><div class=\"sk-container\" hidden><div class=\"sk-item\"><div class=\"sk-estimator sk-toggleable\"><input class=\"sk-toggleable__control sk-hidden--visually\" id=\"sk-estimator-id-1\" type=\"checkbox\" checked><label for=\"sk-estimator-id-1\" class=\"sk-toggleable__label sk-toggleable__label-arrow\">RandomForestRegressor</label><div class=\"sk-toggleable__content\"><pre>RandomForestRegressor()</pre></div></div></div></div></div>"
            ]
          },
          "metadata": {},
          "execution_count": 18
        }
      ]
    },
    {
      "cell_type": "markdown",
      "metadata": {
        "id": "SHNFVsr4hbG2"
      },
      "source": [
        "Model Evaluation"
      ]
    },
    {
      "cell_type": "code",
      "metadata": {
        "id": "uOLpKKD_hXSl"
      },
      "source": [
        "# prediction on Test Data\n",
        "test_data_prediction = regressor.predict(X_test)"
      ],
      "execution_count": 19,
      "outputs": []
    },
    {
      "cell_type": "code",
      "metadata": {
        "colab": {
          "base_uri": "https://localhost:8080/",
          "height": 0
        },
        "id": "WSIqrLNdhnOr",
        "outputId": "cb91ed85-8474-4e75-ba6a-14672ddf4a71"
      },
      "source": [
        "print(test_data_prediction)"
      ],
      "execution_count": 20,
      "outputs": [
        {
          "output_type": "stream",
          "name": "stdout",
          "text": [
            "[168.5764996   81.83929999 116.23670041 127.77790066 120.61740155\n",
            " 154.72469711 150.07269864 126.03830024 117.46559872 125.86900085\n",
            " 116.67660101 172.19350095 141.48449805 167.91109833 115.28710019\n",
            " 117.83210055 138.40320268 170.25790076 159.37730297 157.53189928\n",
            " 155.06990012 125.03360028 176.31349955 156.91660296 125.24250036\n",
            "  93.78629955  78.11440021 120.41059996 119.04819953 167.39099932\n",
            "  88.07290044 124.97610014  91.24550084 117.82719994 121.08359868\n",
            " 136.09970069 115.53360079 114.95780055 148.37540011 107.20650078\n",
            " 104.5643024   87.20169767 126.45690037 117.86680011 152.87269864\n",
            " 119.77830006 108.47250029 107.99019825  93.1240999  127.04659784\n",
            "  74.95840014 113.48129902 121.17519972 111.30539911 118.91579913\n",
            " 120.68049945 159.19320019 168.1502011  146.96869686  85.81129855\n",
            "  94.19010025  86.84999868  90.49310014 119.06620042 126.32270048\n",
            " 127.59710021 169.70109996 122.23689933 117.46389888  98.25309989\n",
            " 167.92860117 142.86249853 132.15160233 121.19340216 121.30199954\n",
            " 119.62500057 114.38620184 118.15810029 107.21290086 127.89880034\n",
            " 114.04249965 107.37920013 116.65730036 119.65069911  89.15370089\n",
            "  88.16859873 146.19260239 127.21160026 113.93829997 110.50639831\n",
            " 108.22169917  78.01749881 169.60390212 113.98699908 121.65609923\n",
            " 127.63350145 154.83789794  91.70159896 134.69520112 158.19740292\n",
            " 125.74090045 125.5134006  130.68700184 114.95740112 119.77469989\n",
            "  92.0914994  110.32019895 168.04669935 156.31999956 114.12199941\n",
            " 106.55570132  80.02249977 113.31550037 125.76160056 107.05449931\n",
            " 119.28980084 156.3386038  160.04039864 120.47149976 134.6227029\n",
            " 101.63039983 117.61909777 119.30809993 112.97110095 102.79459925\n",
            " 160.07969805  98.7704004  147.5178989  125.65260109 169.80119894\n",
            " 125.7988991  127.57489657 127.67100212 113.852699   113.26940073\n",
            " 123.17669898 102.11909911  89.28689998 124.29479989 101.2085994\n",
            " 106.92699932 113.45570061 117.27760067  98.71049921 121.84150031\n",
            " 163.60849877  87.30359865 106.72320015 117.13320088 127.70760098\n",
            " 124.03710093  80.67369943 120.02570091 158.92359805  88.0025998\n",
            " 110.26029931 118.95079906 172.64169852 102.96149919 105.54930038\n",
            " 122.19920025 158.69789749  87.55119862  93.0970006  113.14590001\n",
            " 177.48809958 114.10229975 119.34379979  94.67680074 125.74590034\n",
            " 165.94780118 114.85420076 116.7426014   88.23279874 148.73520014\n",
            " 120.18499953  89.47970024 112.09940017 117.03600018 118.70820117\n",
            "  88.15289935  94.0638999  117.37350011 118.53870196 120.29559999\n",
            " 126.93999803 121.92819993 150.56309998 165.18190061 118.51469981\n",
            " 120.49010138 150.76850018 118.31269936 173.01139838 105.58979938\n",
            " 104.95510125 148.77770014 113.62810092 124.82500129 147.19449987\n",
            " 119.68510146 115.44740059 112.45900012 113.49810195 140.93290061\n",
            " 117.7637978  102.88880017 115.82820113 103.57580182  98.44520018\n",
            " 117.22400064  90.77620002  91.43450063 153.02579913 102.70509979\n",
            " 153.76230081 114.28200159 138.20870147  90.28119819 115.4704993\n",
            " 115.05079971 122.94180032 121.7339005  165.47980144  92.91679931\n",
            " 134.64140059 121.35289916 120.8080002  104.84890006 143.93450284\n",
            " 120.89349945 116.66120045 113.48160051 127.06199812 122.5139994\n",
            " 125.83619902 121.20700054  86.9124991  132.34590184 145.49500181\n",
            "  92.78899946 158.39959949 157.72650246 126.25379915 165.07159958\n",
            " 108.66259982 109.43970067 103.5724983   94.62640061 127.62860298\n",
            " 107.11690065 161.13489997 122.02120003 131.8869     130.77510195\n",
            " 159.60279999  90.26979864 175.36450189 127.4387006  126.89579861\n",
            "  86.5092995  124.57759971 150.28539732  89.56550048 106.86170026\n",
            " 108.97359975  83.81369914 135.76829962 154.60070166 139.85770316\n",
            "  74.09920016 151.97890081 126.0616999  126.7456005  127.52889897\n",
            " 108.61899921 156.26439984 114.40400085 117.03300152 125.63779968\n",
            " 154.09730084 121.13650009 156.34669906  93.03480051 125.5636015\n",
            " 125.28549999  87.70370018  92.12989898 126.37499899 128.54780355\n",
            " 113.01549973 117.56289736 120.98979989 127.10249826 119.45870167\n",
            " 136.46120089  94.06379944 119.87390075 113.03320088  94.38699939\n",
            " 108.96519973  87.35189921 108.83549927  89.77339962  92.48330036\n",
            " 131.57350343 162.47350026  89.28270035 119.61370097 133.46570194\n",
            " 123.93280012 128.28040161 101.87879838  89.21629845 131.55070011\n",
            " 119.90950056 108.86130003 166.5927005  115.19580045  86.69909923\n",
            " 118.78050056  90.96559973 161.77020055 116.51680049 121.57190052\n",
            " 160.21129811 120.07639941 112.75019934 108.50409907 126.78639985\n",
            "  76.19140036 102.91929975 127.27450245 121.76169921  92.57679989\n",
            " 132.19500029 118.15360142 115.8542996  154.26560277 160.08650072\n",
            " 110.0621993  152.97059762 119.27950085 160.80220161 118.63260018\n",
            " 157.38329905 115.1241996  116.30250034 148.94319902 114.64650069\n",
            " 125.70449938 166.21579942 117.68000018 125.31979964 153.08110336\n",
            " 153.35510235 132.0604013  114.91700045 121.33700181 124.70400082\n",
            "  89.7442006  123.0175998  154.80450225 111.70790038 106.65650009\n",
            " 161.63690113 118.28119987 165.62679973 134.26590079 114.79869965\n",
            " 152.98629928 168.78410018 114.80530021 114.09350109 157.64089938\n",
            "  85.16589914 127.10030085 127.77020128 128.76700021 124.27030059\n",
            " 123.94790107  90.76580108 153.32069991  97.16929973 136.70709967\n",
            "  89.00739908 107.30209998 114.95800054 112.68610087 124.5635994\n",
            "  91.45439859 125.22130114 162.41559859 119.83009879 165.01820097\n",
            " 126.97809799 112.28720017 127.56849979  95.15429903  90.94899972\n",
            " 102.68939914 120.85009983  83.39489934 126.33660037 160.44600519\n",
            " 117.3010008  118.17369972 120.10979987 122.86519949 120.11340144\n",
            " 121.5265002  118.22630052 106.98439999 148.18049965 126.07099883\n",
            " 115.85150116  73.86280022 127.76260078 153.72170081 122.39799996\n",
            " 125.63230088  88.76830022 103.09759859 124.35700028 120.35580027\n",
            "  73.2974011  151.88480071 121.10419992 104.63850021  86.31479791\n",
            " 115.24459869 172.20749851 119.48870076 159.71559773 113.26699948\n",
            " 121.40690012 118.48990117  96.07389981 118.69700021 125.91760101\n",
            " 118.47179949  96.30590092 153.80130135 121.98950043 147.25499982\n",
            " 159.2474024  113.88720009 122.51599924 149.33909826 127.13370048\n",
            " 165.81120092 136.19409994 120.08409991 166.66779823 108.19999945\n",
            " 121.76009858 139.76790134 106.01899925]\n"
          ]
        }
      ]
    },
    {
      "cell_type": "code",
      "metadata": {
        "colab": {
          "base_uri": "https://localhost:8080/",
          "height": 0
        },
        "id": "fu7A1hhMhqa9",
        "outputId": "a6164125-85fd-4adf-daf1-684f33912b3f"
      },
      "source": [
        "# R squared error\n",
        "error_score = metrics.r2_score(Y_test, test_data_prediction)\n",
        "print(\"R squared error : \", error_score)"
      ],
      "execution_count": 21,
      "outputs": [
        {
          "output_type": "stream",
          "name": "stdout",
          "text": [
            "R squared error :  0.9890615223047913\n"
          ]
        }
      ]
    },
    {
      "cell_type": "code",
      "source": [
        "#Ordinary Least Squares (OLS) is a method used for estimating the parameters in a linear regression model\n",
        "\n",
        "import statsmodels.api as sm\n",
        "model = sm.OLS(Y_train, X_train)\n",
        "results = model.fit()\n",
        "print(results.summary())\n"
      ],
      "metadata": {
        "colab": {
          "base_uri": "https://localhost:8080/",
          "height": 0
        },
        "id": "uONraGaQeuGV",
        "outputId": "980b809f-bcec-4d79-ed1e-8ed703c15276"
      },
      "execution_count": 24,
      "outputs": [
        {
          "output_type": "stream",
          "name": "stdout",
          "text": [
            "                                 OLS Regression Results                                \n",
            "=======================================================================================\n",
            "Dep. Variable:                    GLD   R-squared (uncentered):                   0.995\n",
            "Model:                            OLS   Adj. R-squared (uncentered):              0.995\n",
            "Method:                 Least Squares   F-statistic:                          9.512e+04\n",
            "Date:                Thu, 04 Jan 2024   Prob (F-statistic):                        0.00\n",
            "Time:                        17:17:42   Log-Likelihood:                         -6550.9\n",
            "No. Observations:                1832   AIC:                                  1.311e+04\n",
            "Df Residuals:                    1828   BIC:                                  1.313e+04\n",
            "Df Model:                           4                                                  \n",
            "Covariance Type:            nonrobust                                                  \n",
            "==============================================================================\n",
            "                 coef    std err          t      P>|t|      [0.025      0.975]\n",
            "------------------------------------------------------------------------------\n",
            "SPX            0.0124      0.000     29.638      0.000       0.012       0.013\n",
            "USO           -0.4305      0.016    -26.680      0.000      -0.462      -0.399\n",
            "SLV            3.1492      0.031    102.645      0.000       3.089       3.209\n",
            "EUR/USD       40.9757      1.068     38.356      0.000      38.881      43.071\n",
            "==============================================================================\n",
            "Omnibus:                      490.110   Durbin-Watson:                   1.984\n",
            "Prob(Omnibus):                  0.000   Jarque-Bera (JB):             2110.759\n",
            "Skew:                          -1.222   Prob(JB):                         0.00\n",
            "Kurtosis:                       7.657   Cond. No.                     9.14e+03\n",
            "==============================================================================\n",
            "\n",
            "Notes:\n",
            "[1] R² is computed without centering (uncentered) since the model does not contain a constant.\n",
            "[2] Standard Errors assume that the covariance matrix of the errors is correctly specified.\n",
            "[3] The condition number is large, 9.14e+03. This might indicate that there are\n",
            "strong multicollinearity or other numerical problems.\n"
          ]
        }
      ]
    },
    {
      "cell_type": "markdown",
      "metadata": {
        "id": "f1fiqOMkiZNL"
      },
      "source": [
        "Compare the Actual Values and Predicted Values in a Plot"
      ]
    },
    {
      "cell_type": "code",
      "metadata": {
        "id": "QoC4g_tBiE4A"
      },
      "source": [
        "Y_test = list(Y_test)"
      ],
      "execution_count": 22,
      "outputs": []
    },
    {
      "cell_type": "code",
      "metadata": {
        "colab": {
          "base_uri": "https://localhost:8080/",
          "height": 472
        },
        "id": "sMSVMVtFijxo",
        "outputId": "76a28ba1-8e50-44ca-e5ee-83dde79c868e"
      },
      "source": [
        "plt.plot(Y_test, color='blue', label = 'Actual Value')\n",
        "plt.plot(test_data_prediction, color='green', label='Predicted Value')\n",
        "plt.title('Actual Price vs Predicted Price')\n",
        "plt.xlabel('Number of values')\n",
        "plt.ylabel('GLD Price')\n",
        "plt.legend()\n",
        "plt.show()"
      ],
      "execution_count": 23,
      "outputs": [
        {
          "output_type": "display_data",
          "data": {
            "text/plain": [
              "<Figure size 640x480 with 1 Axes>"
            ],
            "image/png": "[encoded data removed]"
          },
          "metadata": {}
        }
      ]
    },
    {
      "cell_type": "code",
      "source": [
        "#linear , lasso, ridge , elastic net algoriths\n",
        "#We use Regularization to prevent overfitting, and to improve models ability to generalize new data.\n",
        "from sklearn.linear_model import LinearRegression, Lasso, Ridge, ElasticNet\n",
        "lm=LinearRegression()\n",
        "lm.fit(X_train, Y_train)\n",
        "\n",
        "ls=Lasso()\n",
        "ls.fit(X_train,Y_train)\n",
        "\n",
        "rd=Ridge()\n",
        "rd.fit(X_train, Y_train)\n",
        "\n",
        "el=ElasticNet()\n",
        "el.fit(X_train, Y_train)\n"
      ],
      "metadata": {
        "id": "rnKwJiLtePzU",
        "colab": {
          "base_uri": "https://localhost:8080/",
          "height": 74
        },
        "outputId": "1b9a83e4-f986-4484-ded7-8e3906636c0d"
      },
      "execution_count": 38,
      "outputs": [
        {
          "output_type": "execute_result",
          "data": {
            "text/plain": [
              "ElasticNet()"
            ],
            "text/html": [
              "<style>#sk-container-id-3 {color: black;background-color: white;}#sk-container-id-3 pre{padding: 0;}#sk-container-id-3 div.sk-toggleable {background-color: white;}#sk-container-id-3 label.sk-toggleable__label {cursor: pointer;display: block;width: 100%;margin-bottom: 0;padding: 0.3em;box-sizing: border-box;text-align: center;}#sk-container-id-3 label.sk-toggleable__label-arrow:before {content: \"▸\";float: left;margin-right: 0.25em;color: #696969;}#sk-container-id-3 label.sk-toggleable__label-arrow:hover:before {color: black;}#sk-container-id-3 div.sk-estimator:hover label.sk-toggleable__label-arrow:before {color: black;}#sk-container-id-3 div.sk-toggleable__content {max-height: 0;max-width: 0;overflow: hidden;text-align: left;background-color: #f0f8ff;}#sk-container-id-3 div.sk-toggleable__content pre {margin: 0.2em;color: black;border-radius: 0.25em;background-color: #f0f8ff;}#sk-container-id-3 input.sk-toggleable__control:checked~div.sk-toggleable__content {max-height: 200px;max-width: 100%;overflow: auto;}#sk-container-id-3 input.sk-toggleable__control:checked~label.sk-toggleable__label-arrow:before {content: \"▾\";}#sk-container-id-3 div.sk-estimator input.sk-toggleable__control:checked~label.sk-toggleable__label {background-color: #d4ebff;}#sk-container-id-3 div.sk-label input.sk-toggleable__control:checked~label.sk-toggleable__label {background-color: #d4ebff;}#sk-container-id-3 input.sk-hidden--visually {border: 0;clip: rect(1px 1px 1px 1px);clip: rect(1px, 1px, 1px, 1px);height: 1px;margin: -1px;overflow: hidden;padding: 0;position: absolute;width: 1px;}#sk-container-id-3 div.sk-estimator {font-family: monospace;background-color: #f0f8ff;border: 1px dotted black;border-radius: 0.25em;box-sizing: border-box;margin-bottom: 0.5em;}#sk-container-id-3 div.sk-estimator:hover {background-color: #d4ebff;}#sk-container-id-3 div.sk-parallel-item::after {content: \"\";width: 100%;border-bottom: 1px solid gray;flex-grow: 1;}#sk-container-id-3 div.sk-label:hover label.sk-toggleable__label {background-color: #d4ebff;}#sk-container-id-3 div.sk-serial::before {content: \"\";position: absolute;border-left: 1px solid gray;box-sizing: border-box;top: 0;bottom: 0;left: 50%;z-index: 0;}#sk-container-id-3 div.sk-serial {display: flex;flex-direction: column;align-items: center;background-color: white;padding-right: 0.2em;padding-left: 0.2em;position: relative;}#sk-container-id-3 div.sk-item {position: relative;z-index: 1;}#sk-container-id-3 div.sk-parallel {display: flex;align-items: stretch;justify-content: center;background-color: white;position: relative;}#sk-container-id-3 div.sk-item::before, #sk-container-id-3 div.sk-parallel-item::before {content: \"\";position: absolute;border-left: 1px solid gray;box-sizing: border-box;top: 0;bottom: 0;left: 50%;z-index: -1;}#sk-container-id-3 div.sk-parallel-item {display: flex;flex-direction: column;z-index: 1;position: relative;background-color: white;}#sk-container-id-3 div.sk-parallel-item:first-child::after {align-self: flex-end;width: 50%;}#sk-container-id-3 div.sk-parallel-item:last-child::after {align-self: flex-start;width: 50%;}#sk-container-id-3 div.sk-parallel-item:only-child::after {width: 0;}#sk-container-id-3 div.sk-dashed-wrapped {border: 1px dashed gray;margin: 0 0.4em 0.5em 0.4em;box-sizing: border-box;padding-bottom: 0.4em;background-color: white;}#sk-container-id-3 div.sk-label label {font-family: monospace;font-weight: bold;display: inline-block;line-height: 1.2em;}#sk-container-id-3 div.sk-label-container {text-align: center;}#sk-container-id-3 div.sk-container {/* jupyter's `normalize.less` sets `[hidden] { display: none; }` but bootstrap.min.css set `[hidden] { display: none !important; }` so we also need the `!important` here to be able to override the default hidden behavior on the sphinx rendered scikit-learn.org. See: https://github.com/scikit-learn/scikit-learn/issues/21755 */display: inline-block !important;position: relative;}#sk-container-id-3 div.sk-text-repr-fallback {display: none;}</style><div id=\"sk-container-id-3\" class=\"sk-top-container\"><div class=\"sk-text-repr-fallback\"><pre>ElasticNet()</pre><b>In a Jupyter environment, please rerun this cell to show the HTML representation or trust the notebook. <br />On GitHub, the HTML representation is unable to render, please try loading this page with nbviewer.org.</b></div><div class=\"sk-container\" hidden><div class=\"sk-item\"><div class=\"sk-estimator sk-toggleable\"><input class=\"sk-toggleable__control sk-hidden--visually\" id=\"sk-estimator-id-3\" type=\"checkbox\" checked><label for=\"sk-estimator-id-3\" class=\"sk-toggleable__label sk-toggleable__label-arrow\">ElasticNet</label><div class=\"sk-toggleable__content\"><pre>ElasticNet()</pre></div></div></div></div></div>"
            ]
          },
          "metadata": {},
          "execution_count": 38
        }
      ]
    },
    {
      "cell_type": "code",
      "source": [
        "pred_lm=lm.predict(X_test)\n",
        "pred_lm"
      ],
      "metadata": {
        "colab": {
          "base_uri": "https://localhost:8080/",
          "height": 0
        },
        "id": "WdWl8frRgXcI",
        "outputId": "18aff2e9-20a7-4250-e21b-7dea63cdd47f"
      },
      "execution_count": 35,
      "outputs": [
        {
          "output_type": "execute_result",
          "data": {
            "text/plain": [
              "array([159.45290968,  81.50858067, 113.4868037 , 128.55153817,\n",
              "       126.20403783, 141.31818338, 165.49416492, 124.44197659,\n",
              "       113.95389904, 122.9965895 , 113.95492464, 174.89529849,\n",
              "       132.66890174, 159.24793304, 118.8791679 , 122.14315717,\n",
              "       150.37153054, 161.27175405, 152.2792036 , 162.19946709,\n",
              "       145.88372183, 118.07669395, 180.21729122, 178.13331554,\n",
              "       123.51701986,  98.82914322,  76.63486248, 119.38435511,\n",
              "       113.85027665, 159.25706609,  93.76037617, 120.05334649,\n",
              "        88.61086583, 114.28801659, 112.77954274, 144.19518102,\n",
              "       118.78252489, 115.87334354, 144.06409553, 113.81864246,\n",
              "       100.49676727,  89.42842238, 120.36720699, 110.47635305,\n",
              "       146.4894628 , 119.30321261, 110.99311348, 111.3386287 ,\n",
              "        96.48139076, 123.40842816,  79.51413425, 115.36111603,\n",
              "       121.78896764, 114.55367722, 120.9074622 , 117.10612464,\n",
              "       152.31198525, 182.7735091 , 196.73570503,  91.06670951,\n",
              "       101.92097594,  87.48443506,  94.33158785, 119.17357764,\n",
              "       121.8935122 , 125.85678089, 163.2699701 , 122.91100556,\n",
              "       113.55098736, 104.06905043, 155.16775229, 176.87972077,\n",
              "       125.62460858, 113.85896766, 119.69577146, 120.03159609,\n",
              "       117.85194226, 118.35897733, 113.72954121, 129.97412373,\n",
              "       121.74279861, 104.64163725, 117.17374823, 126.31757797,\n",
              "        94.63054496,  88.6429881 , 173.79414659, 123.3889615 ,\n",
              "       121.11367109, 106.85139516, 102.43120839,  75.64721451,\n",
              "       160.63204133, 116.53485791, 123.43284852, 128.90964962,\n",
              "       141.9754171 ,  94.90681665, 140.59107397, 150.88254462,\n",
              "       120.61400122, 126.18758167, 126.15751557, 117.79050312,\n",
              "       120.23630249,  96.07847005, 108.46289277, 160.74032164,\n",
              "       149.25506194, 116.90461024, 101.89683477,  78.55100685,\n",
              "       113.55252108, 121.86482779, 111.50766509, 119.97033408,\n",
              "       144.93538115, 150.48099293, 120.46444466, 148.63103233,\n",
              "       102.36169588, 113.04232004, 116.67313346, 114.17074491,\n",
              "       111.72097362, 149.60529086, 103.27069375, 162.8243783 ,\n",
              "       127.26240013, 159.3553434 , 122.69414947, 123.01751489,\n",
              "       121.65730575, 114.16407868, 119.73006341, 121.6690294 ,\n",
              "       110.41148326,  93.51351227, 120.88718035, 105.29371566,\n",
              "       105.74311748, 121.82956746, 123.37061551, 104.36058862,\n",
              "       124.41163091, 157.15019835,  90.2875932 , 111.75426942,\n",
              "       116.24341673, 129.71742482, 122.66204747,  86.86560029,\n",
              "       125.58104783, 149.1558729 ,  93.20088142, 113.41951717,\n",
              "       114.76473252, 174.20857764, 111.54818695, 112.26438102,\n",
              "       124.60042052, 149.13827841,  92.28668121,  96.62221445,\n",
              "       120.33971987, 181.05999744, 122.20840259, 116.75008011,\n",
              "        99.19024942, 119.31093226, 153.69884139, 117.41344481,\n",
              "       116.04572722,  88.49265654, 201.18121904, 112.70327442,\n",
              "        95.90817139, 110.27893385, 110.79239714, 124.15722345,\n",
              "        91.40940976,  99.25381492, 118.22481586, 111.46207587,\n",
              "       120.21558021, 123.73713755, 116.59830111, 149.21680142,\n",
              "       157.42793857, 121.43291003, 118.67130713, 145.28995075,\n",
              "       111.46213774, 173.82514998, 106.34128071, 112.64167754,\n",
              "       202.03133513, 121.34066544, 123.19875899, 162.56606178,\n",
              "       111.96236108, 116.9192883 , 110.19610625, 111.5230842 ,\n",
              "       143.44486659, 113.74396159, 111.96962888, 116.62448493,\n",
              "       100.72432155, 105.04545753, 119.94849788,  96.83170431,\n",
              "        95.42249477, 143.72420099, 111.70859517, 145.44386748,\n",
              "       112.09462627, 159.67384334,  90.69074117, 113.87973255,\n",
              "       117.10614529, 120.83182786, 116.0398794 , 156.17508598,\n",
              "       100.41143402, 138.51120883, 122.80981088, 121.73144105,\n",
              "       111.22063915, 145.12280834, 119.62835114, 118.93736976,\n",
              "       121.12559311, 123.49477293, 119.45384482, 121.68552767,\n",
              "       122.79803947,  89.85590671, 127.5285141 , 143.49374375,\n",
              "        89.13511679, 163.81560356, 150.56348474, 125.36238887,\n",
              "       157.29133434, 118.5962307 , 114.76924715, 110.41074389,\n",
              "        99.27940825, 129.19134616, 104.91019759, 164.50553141,\n",
              "       124.27951869, 127.94576049, 126.33265293, 152.92260953,\n",
              "        91.02635368, 180.12688271, 121.33206179, 123.3805987 ,\n",
              "        92.93820488, 118.91049021, 167.74751536,  95.97626635,\n",
              "       112.07153519, 105.48610035,  82.39309463, 129.36811507,\n",
              "       147.6260147 , 145.12559953,  81.06850359, 145.72494054,\n",
              "       125.0873386 , 123.29241873, 121.55626896, 106.21901712,\n",
              "       144.37736667, 117.65217212, 123.67398912, 119.81906032,\n",
              "       146.09219012, 121.31201565, 143.70780585,  96.75332067,\n",
              "       121.04949103, 118.85801666,  95.85724353,  95.7005734 ,\n",
              "       122.83735573, 120.23931521, 114.752374  , 111.3848162 ,\n",
              "       122.11769927, 123.70751131, 118.59965555, 144.90842651,\n",
              "        99.26420076, 122.09583773, 109.34073179,  97.6923005 ,\n",
              "       103.82858753,  82.17668901, 108.48564656,  94.58386165,\n",
              "        99.36237847, 127.92063336, 154.53006174,  94.83214737,\n",
              "       120.56119213, 125.27193692, 123.741244  , 123.153979  ,\n",
              "       110.65471319,  93.77130654, 144.04886361, 118.70953745,\n",
              "       111.64287284, 159.07092617, 116.22058371,  89.59449933,\n",
              "       125.3954476 ,  93.77796895, 155.10683142, 119.70840177,\n",
              "       120.89033884, 150.21060248, 112.07266487, 112.17031901,\n",
              "       103.40785949, 121.88973962,  79.39417285, 111.32332444,\n",
              "       129.57981579, 121.20050645,  97.51862149, 138.03369157,\n",
              "       117.14618729, 120.79220009, 147.4118315 , 149.15097787,\n",
              "       115.34630618, 156.03123936, 125.80296997, 150.0364708 ,\n",
              "       125.49592695, 152.08236215, 113.66641537, 120.94533895,\n",
              "       160.95425308, 116.80893399, 125.33117629, 157.17971833,\n",
              "       120.4838592 , 125.66320966, 147.16276169, 141.23191504,\n",
              "       127.86839214, 116.49844827, 113.86003172, 125.56616732,\n",
              "        93.7151239 , 119.91858182, 143.5779658 , 110.49294691,\n",
              "       111.56151552, 153.32389533, 117.5161175 , 159.14273208,\n",
              "       130.61792167, 120.47996196, 140.69432122, 162.0360364 ,\n",
              "       113.23249654, 115.78985464, 153.13016467,  87.59723109,\n",
              "       120.75954152, 129.37236482, 125.08256637, 124.47800179,\n",
              "       122.52210381,  94.36181387, 142.56208797, 104.65794024,\n",
              "       145.68266189,  93.1734386 , 104.70960227, 116.54046577,\n",
              "       120.5260613 , 120.44862385,  94.68963425, 120.59695494,\n",
              "       154.15009906, 117.18925871, 156.49657478, 123.86401547,\n",
              "       110.41664959, 124.85086427, 100.6794172 ,  94.36971456,\n",
              "       105.71510695, 122.36927215,  79.9786057 , 126.70980467,\n",
              "       152.88190713, 114.88722911, 114.97966394, 119.08904866,\n",
              "       116.79453493, 122.84487067, 120.91030351, 120.88673239,\n",
              "       105.0696433 , 191.90883411, 122.59664436, 116.62755088,\n",
              "        77.84989594, 124.65745662, 143.2709885 , 120.37043229,\n",
              "       121.03655506,  94.50745135, 111.36682253, 119.75471172,\n",
              "       112.48632277,  79.13563026, 142.62965128, 121.89588529,\n",
              "       113.07538385,  88.3918062 , 114.03342237, 163.40511021,\n",
              "       125.20580519, 152.11443433, 113.25319918, 118.62431992,\n",
              "       117.28641957, 104.68078767, 118.41921617, 126.05035311,\n",
              "       120.41292474, 100.69533386, 143.8328044 , 121.01265419,\n",
              "       160.52275467, 149.57414181, 108.42224119, 120.97109044,\n",
              "       158.885207  , 118.21457812, 158.11607219, 143.83779103,\n",
              "       120.47800019, 159.86639242, 111.24045013, 126.4542079 ,\n",
              "       144.93505484, 106.94838427])"
            ]
          },
          "metadata": {},
          "execution_count": 35
        }
      ]
    },
    {
      "cell_type": "code",
      "source": [
        "from sklearn.metrics import r2_score, mean_squared_error"
      ],
      "metadata": {
        "id": "tlXyxTxog8Gd"
      },
      "execution_count": 33,
      "outputs": []
    },
    {
      "cell_type": "code",
      "source": [
        "#The accuracy for linear model\n",
        "\n",
        "metrics.r2_score(Y_test, pred_lm)"
      ],
      "metadata": {
        "colab": {
          "base_uri": "https://localhost:8080/",
          "height": 0
        },
        "id": "t1TKPJw-hKEI",
        "outputId": "eff81158-8088-4589-ae4a-2a7f850ddc05"
      },
      "execution_count": 36,
      "outputs": [
        {
          "output_type": "execute_result",
          "data": {
            "text/plain": [
              "0.8657886565869237"
            ]
          },
          "metadata": {},
          "execution_count": 36
        }
      ]
    },
    {
      "cell_type": "code",
      "source": [
        "pred_ls=ls.predict(X_test)\n",
        "pred_ls"
      ],
      "metadata": {
        "colab": {
          "base_uri": "https://localhost:8080/",
          "height": 0
        },
        "id": "931iVtqUhvPD",
        "outputId": "58b2ce74-adbb-49f2-a5d5-ac47d621c8f7"
      },
      "execution_count": 39,
      "outputs": [
        {
          "output_type": "execute_result",
          "data": {
            "text/plain": [
              "array([158.84512104,  81.04703403, 113.21813043, 128.24921821,\n",
              "       125.52591531, 140.30328872, 165.77178016, 125.05258374,\n",
              "       114.14910705, 123.5210702 , 114.13628642, 175.00866734,\n",
              "       132.57640461, 158.51043648, 117.92572817, 121.77591509,\n",
              "       150.20780434, 160.68906278, 151.64461382, 161.99333696,\n",
              "       145.4120571 , 118.34738175, 180.39772754, 178.24472286,\n",
              "       124.27696964,  99.80255205,  76.60316115, 120.19171432,\n",
              "       114.14002363, 158.50355697,  94.04763779, 120.96974119,\n",
              "        87.74083986, 113.98321611, 112.01201714, 143.73115966,\n",
              "       117.95660144, 115.64610606, 143.40791656, 113.24451605,\n",
              "       101.05231751,  89.20936638, 121.32125716, 110.20612872,\n",
              "       145.64975126, 120.04248218, 110.9111235 , 110.91371884,\n",
              "        96.98342951, 124.04251147,  78.81883439, 114.75212601,\n",
              "       121.30272027, 114.15079702, 121.28412116, 117.14793   ,\n",
              "       152.17201044, 182.85683662, 196.50648401,  91.38003712,\n",
              "       102.03203664,  87.21288355,  94.86738033, 119.75731252,\n",
              "       122.89946985, 126.45014785, 162.69953582, 123.43722793,\n",
              "       113.82668401, 105.40827478, 154.71258084, 176.85393576,\n",
              "       126.04417855, 113.41643749, 120.1284545 , 120.73600095,\n",
              "       116.99436556, 118.19230166, 113.08469691, 129.56710122,\n",
              "       121.11669628, 105.56868533, 117.96383671, 125.53595437,\n",
              "        95.40361439,  88.24612371, 174.1893104 , 124.06378218,\n",
              "       120.50724174, 108.23718794, 102.69880934,  75.02872447,\n",
              "       159.91700159, 115.879224  , 123.75181149, 128.66175881,\n",
              "       140.95462871,  95.48924015, 140.71813038, 150.32748255,\n",
              "       121.4583338 , 125.85980069, 126.56475879, 116.98240566,\n",
              "       120.00406522,  96.99626504, 108.56542734, 160.22414835,\n",
              "       149.3709432 , 116.2142745 , 102.36527584,  78.11510519,\n",
              "       113.9416591 , 122.90850898, 110.92376927, 119.8100532 ,\n",
              "       144.05171061, 150.26864815, 121.11425154, 148.56342424,\n",
              "       103.64307902, 113.14428308, 116.43729396, 113.51822663,\n",
              "       111.16169143, 149.32897351, 104.60735856, 162.84054568,\n",
              "       126.90915426, 158.94696652, 123.1417754 , 123.65198579,\n",
              "       122.84691941, 114.44650646, 118.94047148, 122.21705942,\n",
              "       109.92976807,  93.62037334, 121.42995376, 106.61496333,\n",
              "       106.7000974 , 121.00215861, 122.94320632, 105.54411849,\n",
              "       124.37631268, 156.43286356,  90.33568301, 111.13805765,\n",
              "       116.25452778, 129.29627516, 123.27179603,  87.36765943,\n",
              "       125.09694589, 148.945148  ,  93.35596913, 112.74169506,\n",
              "       114.92437754, 174.34445447, 110.80040842, 111.75702119,\n",
              "       124.05931625, 148.95355762,  92.44699408,  97.69832021,\n",
              "       119.70351329, 181.23418777, 121.5953001 , 116.49168189,\n",
              "        99.77804576, 120.13194943, 153.28937507, 116.61291442,\n",
              "       116.11366728,  88.11855528, 201.08326948, 111.88491154,\n",
              "        96.6122188 , 110.3628107 , 110.60345054, 123.63432882,\n",
              "        91.31469157,  99.88299653, 117.70060038, 111.22293758,\n",
              "       119.96360749, 124.09758295, 116.13756045, 148.52935593,\n",
              "       156.64740893, 121.36795683, 118.92515852, 145.19524671,\n",
              "       110.39418959, 173.82581476, 107.64798098, 112.01662192,\n",
              "       201.98897142, 120.60900684, 123.89121675, 162.82712151,\n",
              "       111.69045299, 116.34934709, 110.34063785, 111.69997143,\n",
              "       142.89814509, 113.97219904, 111.49706656, 116.22525355,\n",
              "       101.26209251, 106.38376245, 120.06991963,  97.38647876,\n",
              "        95.95983445, 143.26535247, 110.93935417, 144.82671574,\n",
              "       112.3703777 , 159.4845288 ,  90.62823048, 114.12454463,\n",
              "       116.77337464, 121.3421096 , 115.69252793, 155.63777253,\n",
              "       100.44937915, 138.5868309 , 123.17958026, 121.28540596,\n",
              "       110.61027975, 144.50271363, 120.30710473, 119.17561966,\n",
              "       120.3742372 , 123.9088972 , 119.89007807, 122.7562754 ,\n",
              "       123.17740082,  89.77668637, 127.7494397 , 142.91154326,\n",
              "        88.52753151, 163.97135769, 150.048991  , 125.86896495,\n",
              "       156.55551551, 117.73734697, 114.43951981, 109.90961484,\n",
              "        99.17871446, 128.62785301, 105.56328642, 164.62861119,\n",
              "       124.23593406, 128.05305822, 126.77091904, 152.80402797,\n",
              "        91.04955443, 180.44219367, 122.29977326, 123.77098476,\n",
              "        93.85171169, 118.70942295, 168.22664376,  96.61112879,\n",
              "       111.52502593, 105.79560489,  82.09743445, 129.35026179,\n",
              "       147.31426589, 144.51316626,  80.32343058, 145.55601633,\n",
              "       125.65248122, 124.28278432, 122.57387279, 106.588393  ,\n",
              "       143.6390772 , 116.77520862, 123.15244632, 120.16822872,\n",
              "       145.78054047, 121.81672221, 142.64220065,  97.71111145,\n",
              "       122.01486251, 118.97833875,  96.14712568,  96.30649141,\n",
              "       123.40405929, 120.37008431, 114.1409867 , 110.57414392,\n",
              "       121.62936122, 124.12012261, 118.82532631, 144.44762345,\n",
              "       100.30287168, 122.22137419, 110.69639665,  98.72748553,\n",
              "       104.44217459,  81.93462194, 108.59235506,  94.96602551,\n",
              "        99.28417043, 128.385488  , 154.32993439,  94.77475511,\n",
              "       121.12943956, 125.48330134, 123.27442446, 123.31049426,\n",
              "       110.21334397,  93.79859394, 144.14291164, 119.11936065,\n",
              "       111.6060291 , 158.95427477, 115.8244484 ,  89.454367  ,\n",
              "       124.77376533,  94.53353907, 154.33611693, 119.82842394,\n",
              "       121.43516925, 149.83269946, 111.02930547, 112.59187676,\n",
              "       103.60058563, 122.91764094,  78.75388341, 110.78135691,\n",
              "       129.04236803, 121.79944237,  97.93095168, 138.00909532,\n",
              "       117.05294935, 120.23472383, 147.03644892, 148.19349907,\n",
              "       114.34148256, 155.87885661, 125.28405486, 149.78760394,\n",
              "       124.73727656, 151.91906812, 113.93788517, 120.58581705,\n",
              "       161.31281962, 115.93538068, 125.08565577, 157.20649352,\n",
              "       120.23250642, 125.30234019, 146.90316233, 140.23852812,\n",
              "       128.02821989, 115.50142878, 113.43998118, 125.08120302,\n",
              "        94.22294167, 119.66430153, 142.70211   , 110.69170575,\n",
              "       111.09625736, 153.33814241, 117.40446168, 158.59932236,\n",
              "       131.07679546, 119.82655359, 139.69283613, 161.420376  ,\n",
              "       112.88540226, 114.8049363 , 153.11104933,  88.87627265,\n",
              "       121.74364728, 128.99952186, 125.77965044, 125.02377953,\n",
              "       122.04725999,  94.36782477, 141.60526937, 104.83088956,\n",
              "       145.34392361,  93.72487947, 105.66192488, 115.97800967,\n",
              "       119.72440755, 121.01090852,  95.34503944, 121.39336678,\n",
              "       153.88345161, 117.87510726, 155.97695033, 124.24179358,\n",
              "       110.62275416, 125.52825144, 100.54170343,  94.68971701,\n",
              "       107.01107613, 121.84588633,  79.36965582, 126.42116336,\n",
              "       152.2664157 , 114.80541544, 114.45652125, 119.92070848,\n",
              "       116.62875307, 122.75735486, 121.51421087, 120.69965684,\n",
              "       105.86899746, 191.87535391, 123.07226393, 116.25980777,\n",
              "        77.16333926, 125.7635143 , 142.4053519 , 121.18187591,\n",
              "       122.13097559,  94.79268577, 110.98066288, 120.61625707,\n",
              "       111.66377931,  78.53726321, 142.41859466, 121.43754562,\n",
              "       112.46334705,  89.21415458, 113.75895614, 162.67938095,\n",
              "       124.74325229, 151.94837927, 113.50208676, 118.08625766,\n",
              "       117.218452  , 104.86679041, 117.93687323, 125.71036766,\n",
              "       120.69354179, 100.60667875, 143.15866213, 121.58700721,\n",
              "       160.99954824, 148.9862027 , 109.83503314, 120.82219956,\n",
              "       159.30968199, 118.48818715, 157.674508  , 143.42773141,\n",
              "       120.19749436, 159.17891128, 110.8919194 , 125.73013009,\n",
              "       144.42477563, 108.34055841])"
            ]
          },
          "metadata": {},
          "execution_count": 39
        }
      ]
    },
    {
      "cell_type": "code",
      "source": [
        "#The accuracy for Lasso Model\n",
        "metrics.r2_score(Y_test, pred_ls)\n"
      ],
      "metadata": {
        "colab": {
          "base_uri": "https://localhost:8080/",
          "height": 0
        },
        "id": "3LA7XyZSiElb",
        "outputId": "b81c4b69-ebe1-46b3-d286-4ef7777994d2"
      },
      "execution_count": 40,
      "outputs": [
        {
          "output_type": "execute_result",
          "data": {
            "text/plain": [
              "0.8644937172756186"
            ]
          },
          "metadata": {},
          "execution_count": 40
        }
      ]
    },
    {
      "cell_type": "code",
      "source": [
        "pred_rd=rd.predict(X_test)\n",
        "pred_rd"
      ],
      "metadata": {
        "colab": {
          "base_uri": "https://localhost:8080/",
          "height": 0
        },
        "id": "gZHM47mkinPV",
        "outputId": "7cf77aed-d428-4c12-cd82-1935eae13c00"
      },
      "execution_count": 41,
      "outputs": [
        {
          "output_type": "execute_result",
          "data": {
            "text/plain": [
              "array([159.41217377,  81.41067223, 113.45286568, 128.52268766,\n",
              "       126.12904639, 141.21796578, 165.55992391, 124.51272288,\n",
              "       113.96680173, 123.05293267, 113.96677334, 174.9527407 ,\n",
              "       132.66607896, 159.1925998 , 118.76731612, 122.10056199,\n",
              "       150.37546988, 161.23515672, 152.22944059, 162.20774214,\n",
              "       145.84749697, 118.10261523, 180.28634974, 178.19004225,\n",
              "       123.60162289,  98.92583263,  76.58771158, 119.47257119,\n",
              "       113.87532208, 159.2008069 ,  93.77734507, 120.15451735,\n",
              "        88.46640802, 114.25007182, 112.68721266, 144.16004972,\n",
              "       118.68486133, 115.84361573, 144.00662618, 113.74676754,\n",
              "       100.54633368,  89.36132752, 120.47253309, 110.43899141,\n",
              "       146.41256091, 119.38384265, 110.97778757, 111.28302346,\n",
              "        96.50542942, 123.47757799,  79.4041022 , 115.28512858,\n",
              "       121.73406408, 114.5023779 , 120.94883509, 117.10592786,\n",
              "       152.3189275 , 182.83147689, 196.76586832,  91.06448552,\n",
              "       101.9072978 ,  87.40900375,  94.37800647, 119.2356719 ,\n",
              "       122.00472862, 125.92551906, 163.23564578, 122.97030288,\n",
              "       113.57316274, 104.21165806, 155.14192554, 176.91815208,\n",
              "       125.67744987, 113.80551317, 119.73958764, 120.10831828,\n",
              "       117.7493424 , 118.33804021, 113.64959334, 129.93451899,\n",
              "       121.67055799, 104.73600241, 117.25800084, 126.23052391,\n",
              "        94.68701554,  88.55356468, 173.87841592, 123.4641332 ,\n",
              "       121.0431566 , 107.0011095 , 102.4483316 ,  75.52980611,\n",
              "       160.57929892, 116.4542732 , 123.46815732, 128.88719459,\n",
              "       141.8749127 ,  94.9392609 , 140.62199406, 150.84055093,\n",
              "       120.70659645, 126.15452486, 126.20948851, 117.69353302,\n",
              "       120.2098354 ,  96.16685846, 108.46479042, 160.71034088,\n",
              "       149.29172845, 116.82042719, 101.93734701,  78.46482493,\n",
              "       113.58978832, 121.98039811, 111.43613448, 119.95121077,\n",
              "       144.85387545, 150.47886811, 120.53469295, 148.64457832,\n",
              "       102.49531062, 113.0439532 , 116.6437709 , 114.08916353,\n",
              "       111.65026242, 149.59532008, 103.41259131, 162.85807835,\n",
              "       127.22726465, 159.33839708, 122.74363197, 123.08658388,\n",
              "       121.78988478, 114.18936198, 119.63828659, 121.72955648,\n",
              "       110.34905492,  93.51010079, 120.94468647, 105.43493585,\n",
              "       105.84243903, 121.73452083, 123.32204247, 104.48537762,\n",
              "       124.40872902, 157.09414762,  90.25291323, 111.67839069,\n",
              "       116.24025314, 129.67606508, 122.73003025,  86.90139416,\n",
              "       125.52808302, 149.15345158,  93.20246028, 113.33479329,\n",
              "       114.7764705 , 174.26722446, 111.45547169, 112.19877537,\n",
              "       124.5417151 , 149.13902099,  92.28861309,  96.72847692,\n",
              "       120.26587151, 181.12853937, 122.13780371, 116.718254  ,\n",
              "        99.242609  , 119.39967996, 153.67753295, 117.31708482,\n",
              "       116.04918427,  88.40587498, 201.22964678, 112.60495247,\n",
              "        95.95706377, 110.27959028, 110.76446782, 124.09867763,\n",
              "        91.35873214,  99.31136816, 118.16065759, 111.42922759,\n",
              "       120.18668194, 123.77752721, 116.54451197, 149.1595378 ,\n",
              "       157.36522686, 121.42423228, 118.69404549, 145.29723287,\n",
              "       111.33422666, 173.86767224, 106.48134066, 112.5626821 ,\n",
              "       202.08681365, 121.25609026, 123.2751428 , 162.62731792,\n",
              "       111.92639612, 116.84931004, 110.20365353, 111.53245759,\n",
              "       143.39913871, 113.76114249, 111.90947385, 116.57375991,\n",
              "       100.7723677 , 105.18877906, 119.96010898,  96.88079006,\n",
              "        95.4690401 , 143.6877247 , 111.61328694, 145.39157755,\n",
              "       112.11594224, 159.68073296,  90.64397418, 113.89937026,\n",
              "       117.06525247, 120.88534638, 115.99852448, 156.14110164,\n",
              "       100.38860863, 138.53370206, 122.85054567, 121.68097867,\n",
              "       111.14461681, 145.07014909, 119.70172604, 118.9617168 ,\n",
              "       121.0387786 , 123.54120051, 119.49792735, 121.80427984,\n",
              "       122.83997314,  89.80596174, 127.55609204, 143.44518104,\n",
              "        89.02062992, 163.86672322, 150.52587606, 125.42103641,\n",
              "       157.23380153, 118.49494757, 114.72702089, 110.34724592,\n",
              "        99.25795359, 129.13365044, 104.97417288, 164.55341285,\n",
              "       124.2754578 , 127.96010887, 126.38827623, 152.93256347,\n",
              "        90.98982847, 180.21026907, 121.4394475 , 123.42410219,\n",
              "        93.01059577, 118.88786591, 167.83825366,  96.01725268,\n",
              "       112.00415126, 105.51035423,  82.31697314, 129.37149289,\n",
              "       147.61026892, 145.07375082,  80.9511179 , 145.72390302,\n",
              "       125.15268043, 123.40278231, 121.66896093, 106.25046495,\n",
              "       144.3111591 , 117.5470565 , 123.61490428, 119.8552114 ,\n",
              "       146.07473005, 121.36819933, 143.60280258,  96.84659587,\n",
              "       121.15617092, 118.86715597,  95.86063133,  95.75284362,\n",
              "       122.89845555, 120.25047165, 114.67536384, 111.28719051,\n",
              "       122.06270216, 123.75407484, 118.61886447, 144.87420017,\n",
              "        99.36908071, 122.10960741, 109.48798069,  97.79478453,\n",
              "       103.88689555,  82.10740466, 108.48789805,  94.61163633,\n",
              "        99.32535025, 127.98049317, 154.53219833,  94.81057056,\n",
              "       120.62221216, 125.29762806, 123.69038948, 123.17036668,\n",
              "       110.59702244,  93.75886089, 144.07710358, 118.74987757,\n",
              "       111.63310113, 159.08749568, 116.16997663,  89.53680105,\n",
              "       125.32631948,  93.8469798 , 155.04295845, 119.71973358,\n",
              "       120.95077795, 150.18939663, 111.94885809, 112.21074494,\n",
              "       103.41720318, 122.00392433,  79.29169871, 111.25497788,\n",
              "       129.52528983, 121.26580424,  97.5344343 , 138.04511937,\n",
              "       117.13188319, 120.72845102, 147.38832788, 149.0623178 ,\n",
              "       115.22611908, 156.04067172, 125.74602938, 150.030323  ,\n",
              "       125.4110028 , 152.08650865, 113.68909584, 120.90275739,\n",
              "       161.02618206, 116.70378873, 125.30641244, 157.21158296,\n",
              "       120.45344089, 125.62549569, 147.15251226, 141.13395876,\n",
              "       127.88918364, 116.37881677, 113.80915418, 125.51449519,\n",
              "        93.7577167 , 119.88787374, 143.49541125, 110.50424413,\n",
              "       111.50289375, 153.35213822, 117.50154615, 159.11037661,\n",
              "       130.67875108, 120.40472732, 140.59544819, 161.99755492,\n",
              "       113.18904794, 115.67124276, 153.15176792,  87.721448  ,\n",
              "       120.86823472, 129.33633443, 125.16169997, 124.54119777,\n",
              "       122.46820349,  94.34799612, 142.4699485 , 104.6532174 ,\n",
              "       145.66303783,  93.19984191, 104.8068724 , 116.47108035,\n",
              "       120.43341242, 120.50825598,  94.74720166, 120.68393597,\n",
              "       154.14436999, 117.26187324, 156.46469103, 123.90651876,\n",
              "       110.42852335, 124.92759793, 100.65509028,  94.39154376,\n",
              "       105.85345854, 122.31044029,  79.87192035, 126.68155336,\n",
              "       152.83484484, 114.87425619, 114.91676126, 119.17988273,\n",
              "       116.76959838, 122.83474975, 120.97600158, 120.8639757 ,\n",
              "       105.15056025, 191.95766367, 122.64936028, 116.58065906,\n",
              "        77.73595652, 124.78152024, 143.18842915, 120.45990396,\n",
              "       121.15784401,  94.52503847, 111.31586495, 119.84844567,\n",
              "       112.3878774 ,  79.03420244, 142.6207869 , 121.84419216,\n",
              "       112.99876179,  88.46382368, 113.99963388, 163.35430617,\n",
              "       125.15472867, 152.11884325, 113.27390935, 118.55995904,\n",
              "       117.27546886, 104.67760185, 118.36157815, 126.01535243,\n",
              "       120.44281588, 100.67686503, 143.77340394, 121.07664627,\n",
              "       160.6071806 , 149.52725183, 108.57506714, 120.9547298 ,\n",
              "       158.96337614, 118.24076866, 158.09449723, 143.80794696,\n",
              "       120.44610467, 159.8159943 , 111.19354856, 126.37406999,\n",
              "       144.89498374, 107.09917817])"
            ]
          },
          "metadata": {},
          "execution_count": 41
        }
      ]
    },
    {
      "cell_type": "code",
      "source": [
        "#Accuracy using L2 Regularization\n",
        "#Ridge\n",
        "metrics.r2_score(Y_test, pred_rd)"
      ],
      "metadata": {
        "colab": {
          "base_uri": "https://localhost:8080/",
          "height": 0
        },
        "id": "oMZUPOrTiuga",
        "outputId": "e230c6d7-bec3-4f72-b39a-a9168038fb11"
      },
      "execution_count": 42,
      "outputs": [
        {
          "output_type": "execute_result",
          "data": {
            "text/plain": [
              "0.8656555635048913"
            ]
          },
          "metadata": {},
          "execution_count": 42
        }
      ]
    },
    {
      "cell_type": "code",
      "source": [
        "pred_el = el.predict(X_test)\n",
        "pred_el"
      ],
      "metadata": {
        "colab": {
          "base_uri": "https://localhost:8080/",
          "height": 0
        },
        "id": "KzY7HWSQiw0A",
        "outputId": "ed768ea4-56d0-471b-f0ea-0d037473e891"
      },
      "execution_count": 43,
      "outputs": [
        {
          "output_type": "execute_result",
          "data": {
            "text/plain": [
              "array([158.57910154,  81.15716379, 113.3538393 , 128.25191066,\n",
              "       125.53952633, 140.18936977, 165.45785767, 125.06490039,\n",
              "       114.18995068, 123.47616479, 114.18878039, 174.6623751 ,\n",
              "       132.50480804, 158.25170032, 117.98724293, 121.81648914,\n",
              "       150.01387821, 160.41237887, 151.42679374, 161.71195401,\n",
              "       145.24461748, 118.36126734, 180.01049292, 177.84218125,\n",
              "       124.27130955,  99.99066591,  76.81396514, 120.19249397,\n",
              "       114.19501895, 158.25997191,  94.31024198, 120.99850413,\n",
              "        87.73101305, 114.10966411, 112.11392279, 143.58268953,\n",
              "       118.0137712 , 115.73657049, 143.26050313, 113.34691003,\n",
              "       101.2270957 ,  89.22236073, 121.34330147, 110.3169459 ,\n",
              "       145.48341837, 120.04920031, 111.05106792, 111.04088538,\n",
              "        96.97892508, 123.99268802,  79.1461653 , 114.82504312,\n",
              "       121.35740326, 114.24758115, 121.32585747, 117.1796214 ,\n",
              "       151.95529281, 182.43071629, 195.94713221,  91.41170903,\n",
              "       102.03159469,  87.22818933,  95.12889807, 119.79428983,\n",
              "       122.90031305, 126.404554  , 162.39489545, 123.45609625,\n",
              "       113.87520289, 105.55534617, 154.48161876, 176.44079683,\n",
              "       126.03360286, 113.51671243, 120.11642749, 120.73285994,\n",
              "       117.05244291, 118.26816342, 113.18965916, 129.56258408,\n",
              "       121.1631585 , 105.69854468, 117.97812282, 125.54622947,\n",
              "        95.44847902,  88.2470594 , 173.79547189, 124.02664292,\n",
              "       120.55745347, 108.36069625, 102.85100541,  75.22235896,\n",
              "       159.63510418, 115.94312671, 123.76185815, 128.65996697,\n",
              "       140.83463162,  95.49972308, 140.6034132 , 150.11625531,\n",
              "       121.44229186, 125.88491241, 126.55245515, 117.0404467 ,\n",
              "       120.07317879,  97.20594952, 108.66604282, 159.93843332,\n",
              "       149.1985188 , 116.27673792, 102.52902999,  78.38152744,\n",
              "       114.02103111, 122.91023525, 111.07753259, 119.87230642,\n",
              "       143.9192207 , 150.07261119, 121.13763004, 148.37991486,\n",
              "       103.7886062 , 113.19280531, 116.53442351, 113.60352275,\n",
              "       111.29229726, 149.14156378, 104.76359047, 162.54708584,\n",
              "       126.92732614, 158.68869702, 123.11806727, 123.60646668,\n",
              "       122.85249283, 114.52051956, 119.00872077, 122.20702152,\n",
              "       110.07376783,  93.88982734, 121.40778886, 106.74969805,\n",
              "       106.83097982, 121.05073601, 122.9749946 , 105.68811104,\n",
              "       124.3978927 , 156.17318372,  90.35504049, 111.28182575,\n",
              "       116.32733826, 129.29443173, 123.2844566 ,  87.67296613,\n",
              "       125.11651541, 148.76489158,  93.62586844, 112.83923234,\n",
              "       114.97525062, 173.99377357, 110.92979111, 111.86725041,\n",
              "       124.09764268, 148.77528627,  92.72951175,  97.89531917,\n",
              "       119.76517381, 180.83552825, 121.63834495, 116.58890701,\n",
              "        99.95812595, 120.12268228, 153.07308557, 116.67383531,\n",
              "       116.18992553,  88.12200727, 200.48819347, 111.98686924,\n",
              "        96.63945193, 110.44409211, 110.71041915, 123.66434162,\n",
              "        91.32156471, 100.06759505, 117.75109008, 111.32892927,\n",
              "       120.030043  , 124.06729261, 116.21468059, 148.34156757,\n",
              "       156.38939823, 121.41133215, 118.92472849, 145.03638308,\n",
              "       110.50712461, 173.47584566, 107.77180266, 112.12323504,\n",
              "       201.38771983, 120.65921165, 123.88611686, 162.53019807,\n",
              "       111.79649711, 116.41644049, 110.42196537, 111.766936  ,\n",
              "       142.75034532, 114.0228746 , 111.62978276, 116.29101093,\n",
              "       101.4399454 , 106.52511636, 120.12235812,  97.61316858,\n",
              "        96.20173517, 143.11275138, 111.06570835, 144.66776777,\n",
              "       112.43593829, 159.20524549,  90.64400746, 114.18515715,\n",
              "       116.8603652 , 121.35195719, 115.77083071, 155.41408917,\n",
              "       100.46562416, 138.47604511, 123.19457549, 121.33890834,\n",
              "       110.75446182, 144.3447496 , 120.30391322, 119.23593713,\n",
              "       120.42857795, 123.88066303, 119.88055576, 122.76110596,\n",
              "       123.19361346,  89.79638878, 127.69424104, 142.77655444,\n",
              "        88.50495871, 163.6761606 , 149.8393803 , 125.83214429,\n",
              "       156.30064664, 117.80850216, 114.54215294, 110.06504418,\n",
              "        99.42567724, 128.63232049, 105.70348641, 164.32823052,\n",
              "       124.2571895 , 127.99025935, 126.75669743, 152.5833596 ,\n",
              "        91.06556088, 180.04296409, 122.27841518, 123.74263499,\n",
              "        93.92391532, 118.76355185, 167.89403647,  96.63802275,\n",
              "       111.66923826, 105.92529419,  82.22527991, 129.30441714,\n",
              "       147.14071851, 144.3540718 ,  80.60597973, 145.39320519,\n",
              "       125.61944862, 124.2725834 , 122.57933996, 106.71040836,\n",
              "       143.50047112, 116.83250611, 123.18300777, 120.16769122,\n",
              "       145.61318936, 121.852202  , 142.50231211,  97.91306665,\n",
              "       122.02882393, 118.98541503,  96.20803284,  96.51761017,\n",
              "       123.36004672, 120.3644721 , 114.21626566, 110.69572483,\n",
              "       121.68075154, 124.09184756, 118.82275027, 144.29376952,\n",
              "       100.4913375 , 122.25902172, 110.78897324,  98.91698594,\n",
              "       104.58682351,  82.07437058, 108.68998327,  95.21453252,\n",
              "        99.30752001, 128.35930721, 154.10125589,  95.03417286,\n",
              "       121.15333271, 125.45718907, 123.31655471, 123.28374234,\n",
              "       110.35427766,  94.06771517, 143.9867044 , 119.1136193 ,\n",
              "       111.74028013, 158.69903808, 115.89460692,  89.4692208 ,\n",
              "       124.79313982,  94.77135045, 154.09045895, 119.88368586,\n",
              "       121.47316943, 149.64106648, 111.14637935, 112.68412163,\n",
              "       103.74706419, 122.92228034,  79.09755725, 110.9215343 ,\n",
              "       129.04268162, 121.82055043,  97.93714347, 137.9125033 ,\n",
              "       117.12115667, 120.30016705, 146.86309962, 148.00536301,\n",
              "       114.43370155, 155.64161272, 125.30092485, 149.60003695,\n",
              "       124.75440529, 151.70487099, 114.00192787, 120.63577665,\n",
              "       161.03373355, 116.00181446, 125.11178691, 156.96805056,\n",
              "       120.28656546, 125.32745375, 146.73278345, 140.12361098,\n",
              "       127.9706719 , 115.56977922, 113.53968478, 125.10941459,\n",
              "        94.48652425, 119.71293404, 142.56876845, 110.76981486,\n",
              "       111.24135225, 153.13747969, 117.49356686, 158.35477147,\n",
              "       131.02604025, 119.8927516 , 139.58675397, 161.15379657,\n",
              "       113.02078247, 114.88045652, 152.88874618,  89.15436975,\n",
              "       121.75863787, 128.99974765, 125.73095581, 125.03485909,\n",
              "       122.08138534,  94.63759749, 141.48614675, 104.802668  ,\n",
              "       145.18340265,  93.73494051, 105.79094824, 116.04775157,\n",
              "       119.78613757, 120.99558085,  95.56787116, 121.41012075,\n",
              "       153.65863683, 117.89365074, 155.74901454, 124.21087094,\n",
              "       110.69849267, 125.48153637, 100.78315678,  94.9534464 ,\n",
              "       107.13948762, 121.89561629,  79.6070396 , 126.44185328,\n",
              "       152.04442897, 114.91634721, 114.57564626, 119.92400648,\n",
              "       116.65664864, 122.78968258, 121.53777778, 120.74892879,\n",
              "       106.00757349, 191.34927794, 123.04987977, 116.32871315,\n",
              "        77.45728165, 125.73700904, 142.25949238, 121.1755952 ,\n",
              "       122.14260513,  95.05382797, 111.11429431, 120.60506263,\n",
              "       111.77307438,  78.84088346, 142.27360108, 121.49049469,\n",
              "       112.57371108,  89.4854208 , 113.89485046, 162.3951324 ,\n",
              "       124.76280644, 151.73950146, 113.58239758, 118.14523275,\n",
              "       117.28934672, 104.8418419 , 118.00359702, 125.73209997,\n",
              "       120.73867534, 100.84863973, 143.01921304, 121.62462967,\n",
              "       160.71547647, 148.78331146, 109.93085394, 120.88399291,\n",
              "       159.05002975, 118.49868704, 157.4347726 , 143.27518157,\n",
              "       120.26373037, 158.89988165, 111.01960043, 125.74117639,\n",
              "       144.2698327 , 108.46507135])"
            ]
          },
          "metadata": {},
          "execution_count": 43
        }
      ]
    },
    {
      "cell_type": "code",
      "source": [
        "##Accuracy using ElasticNet\n",
        "metrics.r2_score(Y_test, pred_el)\n"
      ],
      "metadata": {
        "colab": {
          "base_uri": "https://localhost:8080/",
          "height": 0
        },
        "id": "D2ExlEboi821",
        "outputId": "12d37f69-9207-4743-bea1-9af86c4659f1"
      },
      "execution_count": 44,
      "outputs": [
        {
          "output_type": "execute_result",
          "data": {
            "text/plain": [
              "0.8648814476946795"
            ]
          },
          "metadata": {},
          "execution_count": 44
        }
      ]
    },
    {
      "cell_type": "markdown",
      "source": [
        "By comparing Linear and Random Forest we are getting better accuracy at Random forest of 98%."
      ],
      "metadata": {
        "id": "G725IrWpjsAV"
      }
    },
    {
      "cell_type": "code",
      "source": [],
      "metadata": {
        "id": "bqdq-qIsjFil"
      },
      "execution_count": null,
      "outputs": []
    }
  ]
}